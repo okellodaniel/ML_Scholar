{
 "cells": [
  {
   "cell_type": "markdown",
   "id": "9a48767b-e616-4b20-8ee5-5d5eb3862485",
   "metadata": {},
   "source": [
    "## 6. Decision Trees and Ensemble Learning\r\n",
    "This week, we'll talk about decision trees and tree-based ensemble algorithms.\r\n",
    "\r\n",
    "### 6.1 Credit Risk Scoring Project\r\n",
    "- **Dataset**: [CreditScoring Project Dataset](https://github.com/gastonstat/CreditScoring)\r\n",
    "ring"
   ]
  },
  {
   "cell_type": "code",
   "execution_count": 23,
   "id": "6aa53f20-401d-4ce7-b201-666db0706d36",
   "metadata": {},
   "outputs": [],
   "source": [
    "import pandas as pd\n",
    "import numpy as np\n",
    "\n",
    "import seaborn as sns\n",
    "from matplotlib import pyplot as plt\n",
    "%matplotlib inline"
   ]
  },
  {
   "cell_type": "markdown",
   "id": "409896a0-ab80-4e97-8b70-f7eb63354c9c",
   "metadata": {},
   "source": [
    "## 6.2 Data cleaning and preparation\r\n",
    "* \n",
    "Downloading the datase\n",
    "* \r\n",
    "Re-encoding the categorical variabl.\n",
    "* s\r\n",
    "Doing the train/validation/test split"
   ]
  },
  {
   "cell_type": "code",
   "execution_count": 46,
   "id": "9110d0fd-6298-4840-b8c1-411c809c820f",
   "metadata": {},
   "outputs": [],
   "source": [
    "data = 'https://raw.githubusercontent.com/alexeygrigorev/mlbookcamp-code/master/chapter-06-trees/CreditScoring.csv'"
   ]
  },
  {
   "cell_type": "code",
   "execution_count": 48,
   "id": "cfa6945f-42ea-495d-bfa3-6f9cf58658bd",
   "metadata": {},
   "outputs": [
    {
     "data": {
      "text/html": [
       "<div>\n",
       "<style scoped>\n",
       "    .dataframe tbody tr th:only-of-type {\n",
       "        vertical-align: middle;\n",
       "    }\n",
       "\n",
       "    .dataframe tbody tr th {\n",
       "        vertical-align: top;\n",
       "    }\n",
       "\n",
       "    .dataframe thead th {\n",
       "        text-align: right;\n",
       "    }\n",
       "</style>\n",
       "<table border=\"1\" class=\"dataframe\">\n",
       "  <thead>\n",
       "    <tr style=\"text-align: right;\">\n",
       "      <th></th>\n",
       "      <th>Status</th>\n",
       "      <th>Seniority</th>\n",
       "      <th>Home</th>\n",
       "      <th>Time</th>\n",
       "      <th>Age</th>\n",
       "      <th>Marital</th>\n",
       "      <th>Records</th>\n",
       "      <th>Job</th>\n",
       "      <th>Expenses</th>\n",
       "      <th>Income</th>\n",
       "      <th>Assets</th>\n",
       "      <th>Debt</th>\n",
       "      <th>Amount</th>\n",
       "      <th>Price</th>\n",
       "    </tr>\n",
       "  </thead>\n",
       "  <tbody>\n",
       "    <tr>\n",
       "      <th>0</th>\n",
       "      <td>1</td>\n",
       "      <td>9</td>\n",
       "      <td>1</td>\n",
       "      <td>60</td>\n",
       "      <td>30</td>\n",
       "      <td>2</td>\n",
       "      <td>1</td>\n",
       "      <td>3</td>\n",
       "      <td>73</td>\n",
       "      <td>129</td>\n",
       "      <td>0</td>\n",
       "      <td>0</td>\n",
       "      <td>800</td>\n",
       "      <td>846</td>\n",
       "    </tr>\n",
       "    <tr>\n",
       "      <th>1</th>\n",
       "      <td>1</td>\n",
       "      <td>17</td>\n",
       "      <td>1</td>\n",
       "      <td>60</td>\n",
       "      <td>58</td>\n",
       "      <td>3</td>\n",
       "      <td>1</td>\n",
       "      <td>1</td>\n",
       "      <td>48</td>\n",
       "      <td>131</td>\n",
       "      <td>0</td>\n",
       "      <td>0</td>\n",
       "      <td>1000</td>\n",
       "      <td>1658</td>\n",
       "    </tr>\n",
       "    <tr>\n",
       "      <th>2</th>\n",
       "      <td>2</td>\n",
       "      <td>10</td>\n",
       "      <td>2</td>\n",
       "      <td>36</td>\n",
       "      <td>46</td>\n",
       "      <td>2</td>\n",
       "      <td>2</td>\n",
       "      <td>3</td>\n",
       "      <td>90</td>\n",
       "      <td>200</td>\n",
       "      <td>3000</td>\n",
       "      <td>0</td>\n",
       "      <td>2000</td>\n",
       "      <td>2985</td>\n",
       "    </tr>\n",
       "    <tr>\n",
       "      <th>3</th>\n",
       "      <td>1</td>\n",
       "      <td>0</td>\n",
       "      <td>1</td>\n",
       "      <td>60</td>\n",
       "      <td>24</td>\n",
       "      <td>1</td>\n",
       "      <td>1</td>\n",
       "      <td>1</td>\n",
       "      <td>63</td>\n",
       "      <td>182</td>\n",
       "      <td>2500</td>\n",
       "      <td>0</td>\n",
       "      <td>900</td>\n",
       "      <td>1325</td>\n",
       "    </tr>\n",
       "    <tr>\n",
       "      <th>4</th>\n",
       "      <td>1</td>\n",
       "      <td>0</td>\n",
       "      <td>1</td>\n",
       "      <td>36</td>\n",
       "      <td>26</td>\n",
       "      <td>1</td>\n",
       "      <td>1</td>\n",
       "      <td>1</td>\n",
       "      <td>46</td>\n",
       "      <td>107</td>\n",
       "      <td>0</td>\n",
       "      <td>0</td>\n",
       "      <td>310</td>\n",
       "      <td>910</td>\n",
       "    </tr>\n",
       "    <tr>\n",
       "      <th>...</th>\n",
       "      <td>...</td>\n",
       "      <td>...</td>\n",
       "      <td>...</td>\n",
       "      <td>...</td>\n",
       "      <td>...</td>\n",
       "      <td>...</td>\n",
       "      <td>...</td>\n",
       "      <td>...</td>\n",
       "      <td>...</td>\n",
       "      <td>...</td>\n",
       "      <td>...</td>\n",
       "      <td>...</td>\n",
       "      <td>...</td>\n",
       "      <td>...</td>\n",
       "    </tr>\n",
       "    <tr>\n",
       "      <th>4450</th>\n",
       "      <td>2</td>\n",
       "      <td>1</td>\n",
       "      <td>1</td>\n",
       "      <td>60</td>\n",
       "      <td>39</td>\n",
       "      <td>2</td>\n",
       "      <td>1</td>\n",
       "      <td>1</td>\n",
       "      <td>69</td>\n",
       "      <td>92</td>\n",
       "      <td>0</td>\n",
       "      <td>0</td>\n",
       "      <td>900</td>\n",
       "      <td>1020</td>\n",
       "    </tr>\n",
       "    <tr>\n",
       "      <th>4451</th>\n",
       "      <td>1</td>\n",
       "      <td>22</td>\n",
       "      <td>2</td>\n",
       "      <td>60</td>\n",
       "      <td>46</td>\n",
       "      <td>2</td>\n",
       "      <td>1</td>\n",
       "      <td>1</td>\n",
       "      <td>60</td>\n",
       "      <td>75</td>\n",
       "      <td>3000</td>\n",
       "      <td>600</td>\n",
       "      <td>950</td>\n",
       "      <td>1263</td>\n",
       "    </tr>\n",
       "    <tr>\n",
       "      <th>4452</th>\n",
       "      <td>2</td>\n",
       "      <td>0</td>\n",
       "      <td>2</td>\n",
       "      <td>24</td>\n",
       "      <td>37</td>\n",
       "      <td>2</td>\n",
       "      <td>1</td>\n",
       "      <td>2</td>\n",
       "      <td>60</td>\n",
       "      <td>90</td>\n",
       "      <td>3500</td>\n",
       "      <td>0</td>\n",
       "      <td>500</td>\n",
       "      <td>963</td>\n",
       "    </tr>\n",
       "    <tr>\n",
       "      <th>4453</th>\n",
       "      <td>1</td>\n",
       "      <td>0</td>\n",
       "      <td>1</td>\n",
       "      <td>48</td>\n",
       "      <td>23</td>\n",
       "      <td>1</td>\n",
       "      <td>1</td>\n",
       "      <td>3</td>\n",
       "      <td>49</td>\n",
       "      <td>140</td>\n",
       "      <td>0</td>\n",
       "      <td>0</td>\n",
       "      <td>550</td>\n",
       "      <td>550</td>\n",
       "    </tr>\n",
       "    <tr>\n",
       "      <th>4454</th>\n",
       "      <td>1</td>\n",
       "      <td>5</td>\n",
       "      <td>2</td>\n",
       "      <td>60</td>\n",
       "      <td>32</td>\n",
       "      <td>2</td>\n",
       "      <td>1</td>\n",
       "      <td>3</td>\n",
       "      <td>60</td>\n",
       "      <td>140</td>\n",
       "      <td>4000</td>\n",
       "      <td>1000</td>\n",
       "      <td>1350</td>\n",
       "      <td>1650</td>\n",
       "    </tr>\n",
       "  </tbody>\n",
       "</table>\n",
       "<p>4455 rows × 14 columns</p>\n",
       "</div>"
      ],
      "text/plain": [
       "      Status  Seniority  Home  Time  Age  Marital  Records  Job  Expenses  \\\n",
       "0          1          9     1    60   30        2        1    3        73   \n",
       "1          1         17     1    60   58        3        1    1        48   \n",
       "2          2         10     2    36   46        2        2    3        90   \n",
       "3          1          0     1    60   24        1        1    1        63   \n",
       "4          1          0     1    36   26        1        1    1        46   \n",
       "...      ...        ...   ...   ...  ...      ...      ...  ...       ...   \n",
       "4450       2          1     1    60   39        2        1    1        69   \n",
       "4451       1         22     2    60   46        2        1    1        60   \n",
       "4452       2          0     2    24   37        2        1    2        60   \n",
       "4453       1          0     1    48   23        1        1    3        49   \n",
       "4454       1          5     2    60   32        2        1    3        60   \n",
       "\n",
       "      Income  Assets  Debt  Amount  Price  \n",
       "0        129       0     0     800    846  \n",
       "1        131       0     0    1000   1658  \n",
       "2        200    3000     0    2000   2985  \n",
       "3        182    2500     0     900   1325  \n",
       "4        107       0     0     310    910  \n",
       "...      ...     ...   ...     ...    ...  \n",
       "4450      92       0     0     900   1020  \n",
       "4451      75    3000   600     950   1263  \n",
       "4452      90    3500     0     500    963  \n",
       "4453     140       0     0     550    550  \n",
       "4454     140    4000  1000    1350   1650  \n",
       "\n",
       "[4455 rows x 14 columns]"
      ]
     },
     "execution_count": 48,
     "metadata": {},
     "output_type": "execute_result"
    }
   ],
   "source": [
    "df = pd.read_csv(data)\n",
    "df"
   ]
  },
  {
   "cell_type": "code",
   "execution_count": 50,
   "id": "c97469ea-b97b-4ced-ba40-70ea110dbf35",
   "metadata": {},
   "outputs": [],
   "source": [
    "df.columns = df.columns.str.lower()"
   ]
  },
  {
   "cell_type": "code",
   "execution_count": 52,
   "id": "eb171fd2-9a5d-4dba-9604-36a12ce3bba4",
   "metadata": {},
   "outputs": [
    {
     "data": {
      "text/plain": [
       "status\n",
       "1    3200\n",
       "2    1254\n",
       "0       1\n",
       "Name: count, dtype: int64"
      ]
     },
     "execution_count": 52,
     "metadata": {},
     "output_type": "execute_result"
    }
   ],
   "source": [
    "df.status.value_counts()"
   ]
  },
  {
   "cell_type": "code",
   "execution_count": null,
   "id": "c618084f-b66b-4544-88da-2f716e0289ed",
   "metadata": {},
   "outputs": [],
   "source": []
  },
  {
   "cell_type": "markdown",
   "id": "0efdab2d-13d0-43ad-88bf-ad47d63bf04e",
   "metadata": {},
   "source": [
    "## 6.3 Decision Trees\r\n",
    "- How a decision tree looks like\r\n",
    "- Training a decision tree\r\n",
    "- Overfitting\r\n",
    "- Controlling the size of a tree\r\n",
    "tree"
   ]
  },
  {
   "cell_type": "code",
   "execution_count": null,
   "id": "61dd6116-a024-4e20-abc5-fa7f9a0c6d38",
   "metadata": {},
   "outputs": [],
   "source": []
  },
  {
   "cell_type": "code",
   "execution_count": null,
   "id": "3ef8097c-55c0-46d2-a6a5-092ca00218ff",
   "metadata": {},
   "outputs": [],
   "source": []
  },
  {
   "cell_type": "markdown",
   "id": "3d4b73b8-fbae-4776-acf1-900d9fdda43c",
   "metadata": {},
   "source": [
    "## 6.4 Decision Tree Learning Algorithm\r\n",
    "- Finding the best split for one column\r\n",
    "- Finding the best split for the entire dataset\r\n",
    "- Stopping criteria\r\n",
    "- Decision tree learning algorithm\r\n"
   ]
  },
  {
   "cell_type": "code",
   "execution_count": null,
   "id": "0b71cf63-c32a-4666-8c25-19cc5241606f",
   "metadata": {},
   "outputs": [],
   "source": []
  },
  {
   "cell_type": "code",
   "execution_count": null,
   "id": "b740ffb0-e0c5-4bf9-b7bd-a7eedf9a5aaf",
   "metadata": {},
   "outputs": [],
   "source": []
  },
  {
   "cell_type": "markdown",
   "id": "868082ee-5d6b-4e8a-8901-1cb7f2ce92c6",
   "metadata": {},
   "source": [
    "## 6.5 Decision Trees Parameter Tuning\r\n",
    "- Selecting `max_depth`\r\n",
    "- Selecting `min_samples_leaf`\r\n"
   ]
  },
  {
   "cell_type": "code",
   "execution_count": null,
   "id": "ba82371f-a29d-454b-a8d8-826c47d3d8cd",
   "metadata": {},
   "outputs": [],
   "source": []
  },
  {
   "cell_type": "code",
   "execution_count": null,
   "id": "779540c4-3791-4abf-9d61-cb5a8bf8f78b",
   "metadata": {},
   "outputs": [],
   "source": []
  },
  {
   "cell_type": "markdown",
   "id": "ccea859c-61cd-4f11-8e44-c5d1eef9d89b",
   "metadata": {
    "jp-MarkdownHeadingCollapsed": true
   },
   "source": [
    "## 6.6 Ensembles and Random Forest\r\n",
    "- Board of experts\r\n",
    "- Ensembling models\r\n",
    "- Random forest - ensembling decision trees\r\n",
    "- Tuning random forest\r\n"
   ]
  },
  {
   "cell_type": "code",
   "execution_count": null,
   "id": "11ad066c-ee6a-41b2-b3b9-c0b0502ccc1f",
   "metadata": {},
   "outputs": [],
   "source": []
  },
  {
   "cell_type": "code",
   "execution_count": null,
   "id": "e8c81fe5-d88d-4dfd-a309-bcbd273a2732",
   "metadata": {},
   "outputs": [],
   "source": []
  },
  {
   "cell_type": "markdown",
   "id": "c31f6842-62d4-4951-a51d-6d9662ac5423",
   "metadata": {
    "jp-MarkdownHeadingCollapsed": true
   },
   "source": [
    "## 6.7 Gradient Boosting and XGBoost\r\n",
    "- Gradient boosting vs random forest\r\n",
    "- Installing XGBoost\r\n",
    "- Training the first model\r\n",
    "- Performance monitoring\r\n",
    "- Parsing XGBoost's monitoring output\r\n"
   ]
  },
  {
   "cell_type": "code",
   "execution_count": null,
   "id": "0ff2de2c-f372-48ad-8222-c87acf18bf02",
   "metadata": {},
   "outputs": [],
   "source": []
  },
  {
   "cell_type": "code",
   "execution_count": null,
   "id": "2b73328b-b4f1-411a-ad16-81fe718c47a4",
   "metadata": {},
   "outputs": [],
   "source": []
  },
  {
   "cell_type": "markdown",
   "id": "1a911910-a2f4-464e-93a2-a95efb3e746e",
   "metadata": {
    "jp-MarkdownHeadingCollapsed": true
   },
   "source": [
    "## 6.8 XGBoost Parameter Tuning\r\n",
    "- Tuning the following parameters:\r\n",
    "  - `eta`\r\n",
    "  - `max_depth`\r\n",
    "  - `min_child_weight`\r\n"
   ]
  },
  {
   "cell_type": "code",
   "execution_count": null,
   "id": "c2726dd9-7409-4787-a5e8-777aa4d95370",
   "metadata": {},
   "outputs": [],
   "source": []
  },
  {
   "cell_type": "code",
   "execution_count": null,
   "id": "8001aa3a-b7ff-4f4c-b1ac-0dd30c4f17ed",
   "metadata": {},
   "outputs": [],
   "source": []
  },
  {
   "cell_type": "markdown",
   "id": "7bfc06fa-c52a-4636-b30d-871e357ab6ce",
   "metadata": {
    "jp-MarkdownHeadingCollapsed": true
   },
   "source": [
    "## 6.9 Selecting the Final Model\r\n",
    "- Choosing between XGBoost, Random Forest, and Decision Tree\r\n",
    "- Training the final model\r\n",
    "- Saving the model\r\n"
   ]
  },
  {
   "cell_type": "code",
   "execution_count": null,
   "id": "5ec322da-3ca7-4a36-8077-ef04fa9205d6",
   "metadata": {},
   "outputs": [],
   "source": []
  },
  {
   "cell_type": "code",
   "execution_count": null,
   "id": "9d4ff84f-daf1-4b9c-8ca3-75140f365171",
   "metadata": {},
   "outputs": [],
   "source": []
  },
  {
   "cell_type": "code",
   "execution_count": null,
   "id": "5cac1c1d-1823-4356-915c-6d335d89a59a",
   "metadata": {},
   "outputs": [],
   "source": []
  },
  {
   "cell_type": "code",
   "execution_count": null,
   "id": "fb4ebe75-241f-497e-bda8-a1a8b0a4f007",
   "metadata": {},
   "outputs": [],
   "source": []
  },
  {
   "cell_type": "markdown",
   "id": "09851849-f68d-4ea4-b0ac-826468bc5771",
   "metadata": {},
   "source": [
    "## 6.10 Summary\r\n",
    "- **Decision Trees** learn if-then-else rules from data.\r\n",
    "  - Finding the best split: selects the least impure split. This algorithm can overfit, which is controlled by limiting the max depth and the size of the groups.\r\n",
    "- **Random Forest** combines multiple decision trees to make predictions. A diverse set of models is needed for accurate predictions.\r\n",
    "- **Gradient Boosting** trains models sequentially, with each model attempting to correct the errors of the previous one. **XGBoost** is an optimized implementation of gradient boosting.\r\n",
    "\r\n",
    "## 6.11 Explore More\r\n",
    "- **EDA and Feature Engineering**: For this dataset, we skipped Exploratory Data Analysis (EDA) and feature engineering, which could provide additional insights.\r\n",
    "- **Random Forest Tuning**: Beyond the basic parameters, consider tuning `max_features` and `bootstrap`.\r\n",
    "- **Extra Trees**: This \"extremely randomized trees\" approach selects a few thresholds randomly instead of the best one, which prevents overfitting. It is implemented in Scikit-Learn as `ExtraTreesClassifier`. Try it in this project.\r\n",
    "- **Handling NAs in XGBoost**: XGBoost can handle missing values (`NAs`) directly. Test if skipping `fillna` improves performance.\r\n",
    "- **Additional XGBoost Parameters**: Experiment with `subsample` and `colsample_bytree` to fine-tune the model.\r\n",
    "- **Feature Importance**: Decision trees can identify important features during training. See examples for `RandomForest` (also applicable to plain decision trees) and `XGBoost` for insights into feature importance.\r\n",
    "- **Regression with Trees**: Decision trees are also used for regression problems. Check out `DecisionTreeRegressor`, `RandomForestRegressor`, and the `objective=reg:squarederror` parameter for XGBoost.\r\n",
    "\r\n"
   ]
  },
  {
   "cell_type": "code",
   "execution_count": null,
   "id": "8d7c9e80-d5f2-45af-ba43-880c1161e8ba",
   "metadata": {},
   "outputs": [],
   "source": []
  },
  {
   "cell_type": "code",
   "execution_count": null,
   "id": "f47fb581-5892-4bc1-92a2-4b02e69effd2",
   "metadata": {},
   "outputs": [],
   "source": []
  },
  {
   "cell_type": "code",
   "execution_count": null,
   "id": "3740c0ca-37e2-4459-b5fb-f3c3a2c7e5be",
   "metadata": {},
   "outputs": [],
   "source": []
  },
  {
   "cell_type": "code",
   "execution_count": null,
   "id": "bcffa12b-f4e5-48a9-a13a-b0ed351774a9",
   "metadata": {},
   "outputs": [],
   "source": []
  }
 ],
 "metadata": {
  "kernelspec": {
   "display_name": "Python 3 (ipykernel)",
   "language": "python",
   "name": "python3"
  },
  "language_info": {
   "codemirror_mode": {
    "name": "ipython",
    "version": 3
   },
   "file_extension": ".py",
   "mimetype": "text/x-python",
   "name": "python",
   "nbconvert_exporter": "python",
   "pygments_lexer": "ipython3",
   "version": "3.12.4"
  }
 },
 "nbformat": 4,
 "nbformat_minor": 5
}
