{
 "cells": [
  {
   "cell_type": "markdown",
   "id": "c7094cad",
   "metadata": {},
   "source": [
    "# 8. Neural networks and deep learning\n",
    "\n",
    "This week, we'll learn about neural nets and build a model\n",
    "for classifying images of clothes\n",
    "\n",
    "\n",
    "## 8.1 Fashion classification\n",
    "\n",
    "Dataset: \n",
    "\n",
    "* Full: https://github.com/alexeygrigorev/clothing-dataset\n",
    "* Small: https://github.com/alexeygrigorev/clothing-dataset-small\n",
    "\n",
    "Links:\n",
    "\n",
    "* https://cs231n.github.io/"
   ]
  },
  {
   "cell_type": "code",
   "execution_count": 1,
   "id": "1afdbb2c",
   "metadata": {
    "execution": {
     "iopub.execute_input": "2024-11-26T01:56:12.277047Z",
     "iopub.status.busy": "2024-11-26T01:56:12.276751Z",
     "iopub.status.idle": "2024-11-26T01:56:15.661017Z",
     "shell.execute_reply": "2024-11-26T01:56:15.660318Z",
     "shell.execute_reply.started": "2024-11-26T01:56:12.277025Z"
    }
   },
   "outputs": [
    {
     "name": "stdout",
     "output_type": "stream",
     "text": [
      "Cloning into 'clothing-dataset-small'...\n",
      "remote: Enumerating objects: 3839, done.\u001b[K\n",
      "remote: Counting objects: 100% (400/400), done.\u001b[K\n",
      "remote: Compressing objects: 100% (400/400), done.\u001b[K\n",
      "remote: Total 3839 (delta 9), reused 385 (delta 0), pack-reused 3439 (from 1)\u001b[K\n",
      "Receiving objects: 100% (3839/3839), 100.58 MiB | 62.92 MiB/s, done.\n",
      "Resolving deltas: 100% (10/10), done.\n"
     ]
    }
   ],
   "source": [
    "!git clone git@github.com:alexeygrigorev/clothing-dataset-small.git"
   ]
  },
  {
   "cell_type": "markdown",
   "id": "12765d10",
   "metadata": {},
   "source": [
    "## 8.2 TensorFlow and Keras\n",
    "\n",
    "* Installing TensorFlow\n",
    "* Loading images"
   ]
  },
  {
   "cell_type": "code",
   "execution_count": 4,
   "id": "a8d6a722-dbfa-4d08-9824-1a0a84aaf09f",
   "metadata": {
    "execution": {
     "iopub.execute_input": "2024-11-26T02:04:58.513622Z",
     "iopub.status.busy": "2024-11-26T02:04:58.512985Z",
     "iopub.status.idle": "2024-11-26T02:05:00.955619Z",
     "shell.execute_reply": "2024-11-26T02:05:00.955085Z",
     "shell.execute_reply.started": "2024-11-26T02:04:58.513587Z"
    }
   },
   "outputs": [],
   "source": [
    "import pandas as pd\n",
    "import numpy as np\n",
    "import matplotlib.pyplot as plt\n",
    "\n",
    "%matplotlib inline"
   ]
  },
  {
   "cell_type": "code",
   "execution_count": 6,
   "id": "5bd9ff07-f09d-4fd4-a81b-2a3d64e630c3",
   "metadata": {
    "execution": {
     "iopub.execute_input": "2024-11-26T02:05:43.578469Z",
     "iopub.status.busy": "2024-11-26T02:05:43.578165Z",
     "iopub.status.idle": "2024-11-26T02:06:20.895710Z",
     "shell.execute_reply": "2024-11-26T02:06:20.894970Z",
     "shell.execute_reply.started": "2024-11-26T02:05:43.578446Z"
    },
    "scrolled": true
   },
   "outputs": [
    {
     "name": "stdout",
     "output_type": "stream",
     "text": [
      "Collecting tensorflow\n",
      "  Downloading tensorflow-2.18.0-cp311-cp311-manylinux_2_17_x86_64.manylinux2014_x86_64.whl.metadata (4.1 kB)\n",
      "Requirement already satisfied: absl-py>=1.0.0 in /opt/saturncloud/envs/saturn/lib/python3.11/site-packages (from tensorflow) (2.1.0)\n",
      "Collecting astunparse>=1.6.0 (from tensorflow)\n",
      "  Downloading astunparse-1.6.3-py2.py3-none-any.whl.metadata (4.4 kB)\n",
      "Collecting flatbuffers>=24.3.25 (from tensorflow)\n",
      "  Downloading flatbuffers-24.3.25-py2.py3-none-any.whl.metadata (850 bytes)\n",
      "Collecting gast!=0.5.0,!=0.5.1,!=0.5.2,>=0.2.1 (from tensorflow)\n",
      "  Downloading gast-0.6.0-py3-none-any.whl.metadata (1.3 kB)\n",
      "Collecting google-pasta>=0.1.1 (from tensorflow)\n",
      "  Downloading google_pasta-0.2.0-py3-none-any.whl.metadata (814 bytes)\n",
      "Collecting libclang>=13.0.0 (from tensorflow)\n",
      "  Downloading libclang-18.1.1-py2.py3-none-manylinux2010_x86_64.whl.metadata (5.2 kB)\n",
      "Collecting opt-einsum>=2.3.2 (from tensorflow)\n",
      "  Downloading opt_einsum-3.4.0-py3-none-any.whl.metadata (6.3 kB)\n",
      "Requirement already satisfied: packaging in /opt/saturncloud/envs/saturn/lib/python3.11/site-packages (from tensorflow) (24.1)\n",
      "Requirement already satisfied: protobuf!=4.21.0,!=4.21.1,!=4.21.2,!=4.21.3,!=4.21.4,!=4.21.5,<6.0.0dev,>=3.20.3 in /opt/saturncloud/envs/saturn/lib/python3.11/site-packages (from tensorflow) (4.25.3)\n",
      "Requirement already satisfied: requests<3,>=2.21.0 in /opt/saturncloud/envs/saturn/lib/python3.11/site-packages (from tensorflow) (2.32.3)\n",
      "Requirement already satisfied: setuptools in /opt/saturncloud/envs/saturn/lib/python3.11/site-packages (from tensorflow) (75.1.0)\n",
      "Requirement already satisfied: six>=1.12.0 in /opt/saturncloud/envs/saturn/lib/python3.11/site-packages (from tensorflow) (1.16.0)\n",
      "Collecting termcolor>=1.1.0 (from tensorflow)\n",
      "  Downloading termcolor-2.5.0-py3-none-any.whl.metadata (6.1 kB)\n",
      "Requirement already satisfied: typing-extensions>=3.6.6 in /opt/saturncloud/envs/saturn/lib/python3.11/site-packages (from tensorflow) (4.12.2)\n",
      "Requirement already satisfied: wrapt>=1.11.0 in /opt/saturncloud/envs/saturn/lib/python3.11/site-packages (from tensorflow) (1.16.0)\n",
      "Requirement already satisfied: grpcio<2.0,>=1.24.3 in /opt/saturncloud/envs/saturn/lib/python3.11/site-packages (from tensorflow) (1.62.2)\n",
      "Requirement already satisfied: tensorboard<2.19,>=2.18 in /opt/saturncloud/envs/saturn/lib/python3.11/site-packages (from tensorflow) (2.18.0)\n",
      "Collecting keras>=3.5.0 (from tensorflow)\n",
      "  Downloading keras-3.6.0-py3-none-any.whl.metadata (5.8 kB)\n",
      "Requirement already satisfied: numpy<2.1.0,>=1.26.0 in /opt/saturncloud/envs/saturn/lib/python3.11/site-packages (from tensorflow) (1.26.4)\n",
      "Collecting h5py>=3.11.0 (from tensorflow)\n",
      "  Downloading h5py-3.12.1-cp311-cp311-manylinux_2_17_x86_64.manylinux2014_x86_64.whl.metadata (2.5 kB)\n",
      "Collecting ml-dtypes<0.5.0,>=0.4.0 (from tensorflow)\n",
      "  Downloading ml_dtypes-0.4.1-cp311-cp311-manylinux_2_17_x86_64.manylinux2014_x86_64.whl.metadata (20 kB)\n",
      "Collecting tensorflow-io-gcs-filesystem>=0.23.1 (from tensorflow)\n",
      "  Downloading tensorflow_io_gcs_filesystem-0.37.1-cp311-cp311-manylinux_2_17_x86_64.manylinux2014_x86_64.whl.metadata (14 kB)\n",
      "Requirement already satisfied: wheel<1.0,>=0.23.0 in /opt/saturncloud/envs/saturn/lib/python3.11/site-packages (from astunparse>=1.6.0->tensorflow) (0.44.0)\n",
      "Requirement already satisfied: rich in /opt/saturncloud/envs/saturn/lib/python3.11/site-packages (from keras>=3.5.0->tensorflow) (13.9.2)\n",
      "Collecting namex (from keras>=3.5.0->tensorflow)\n",
      "  Downloading namex-0.0.8-py3-none-any.whl.metadata (246 bytes)\n",
      "Collecting optree (from keras>=3.5.0->tensorflow)\n",
      "  Downloading optree-0.13.1-cp311-cp311-manylinux_2_17_x86_64.manylinux2014_x86_64.whl.metadata (47 kB)\n",
      "Requirement already satisfied: charset-normalizer<4,>=2 in /opt/saturncloud/envs/saturn/lib/python3.11/site-packages (from requests<3,>=2.21.0->tensorflow) (3.4.0)\n",
      "Requirement already satisfied: idna<4,>=2.5 in /opt/saturncloud/envs/saturn/lib/python3.11/site-packages (from requests<3,>=2.21.0->tensorflow) (3.10)\n",
      "Requirement already satisfied: urllib3<3,>=1.21.1 in /opt/saturncloud/envs/saturn/lib/python3.11/site-packages (from requests<3,>=2.21.0->tensorflow) (2.2.3)\n",
      "Requirement already satisfied: certifi>=2017.4.17 in /opt/saturncloud/envs/saturn/lib/python3.11/site-packages (from requests<3,>=2.21.0->tensorflow) (2024.8.30)\n",
      "Requirement already satisfied: markdown>=2.6.8 in /opt/saturncloud/envs/saturn/lib/python3.11/site-packages (from tensorboard<2.19,>=2.18->tensorflow) (3.6)\n",
      "Requirement already satisfied: tensorboard-data-server<0.8.0,>=0.7.0 in /opt/saturncloud/envs/saturn/lib/python3.11/site-packages (from tensorboard<2.19,>=2.18->tensorflow) (0.7.0)\n",
      "Requirement already satisfied: werkzeug>=1.0.1 in /opt/saturncloud/envs/saturn/lib/python3.11/site-packages (from tensorboard<2.19,>=2.18->tensorflow) (3.0.4)\n",
      "Requirement already satisfied: MarkupSafe>=2.1.1 in /opt/saturncloud/envs/saturn/lib/python3.11/site-packages (from werkzeug>=1.0.1->tensorboard<2.19,>=2.18->tensorflow) (3.0.1)\n",
      "Requirement already satisfied: markdown-it-py>=2.2.0 in /opt/saturncloud/envs/saturn/lib/python3.11/site-packages (from rich->keras>=3.5.0->tensorflow) (3.0.0)\n",
      "Requirement already satisfied: pygments<3.0.0,>=2.13.0 in /opt/saturncloud/envs/saturn/lib/python3.11/site-packages (from rich->keras>=3.5.0->tensorflow) (2.18.0)\n",
      "Requirement already satisfied: mdurl~=0.1 in /opt/saturncloud/envs/saturn/lib/python3.11/site-packages (from markdown-it-py>=2.2.0->rich->keras>=3.5.0->tensorflow) (0.1.2)\n",
      "Downloading tensorflow-2.18.0-cp311-cp311-manylinux_2_17_x86_64.manylinux2014_x86_64.whl (615.4 MB)\n",
      "\u001b[2K   \u001b[90m━━━━━━━━━━━━━━━━━━━━━━━━━━━━━━━━━━━━━━━━\u001b[0m \u001b[32m615.4/615.4 MB\u001b[0m \u001b[31m28.2 MB/s\u001b[0m eta \u001b[36m0:00:00\u001b[0m00:01\u001b[0m00:01\u001b[0m\n",
      "\u001b[?25hDownloading astunparse-1.6.3-py2.py3-none-any.whl (12 kB)\n",
      "Downloading flatbuffers-24.3.25-py2.py3-none-any.whl (26 kB)\n",
      "Downloading gast-0.6.0-py3-none-any.whl (21 kB)\n",
      "Downloading google_pasta-0.2.0-py3-none-any.whl (57 kB)\n",
      "Downloading h5py-3.12.1-cp311-cp311-manylinux_2_17_x86_64.manylinux2014_x86_64.whl (5.5 MB)\n",
      "\u001b[2K   \u001b[90m━━━━━━━━━━━━━━━━━━━━━━━━━━━━━━━━━━━━━━━━\u001b[0m \u001b[32m5.5/5.5 MB\u001b[0m \u001b[31m34.0 MB/s\u001b[0m eta \u001b[36m0:00:00\u001b[0m\n",
      "\u001b[?25hDownloading keras-3.6.0-py3-none-any.whl (1.2 MB)\n",
      "\u001b[2K   \u001b[90m━━━━━━━━━━━━━━━━━━━━━━━━━━━━━━━━━━━━━━━━\u001b[0m \u001b[32m1.2/1.2 MB\u001b[0m \u001b[31m29.4 MB/s\u001b[0m eta \u001b[36m0:00:00\u001b[0m\n",
      "\u001b[?25hDownloading libclang-18.1.1-py2.py3-none-manylinux2010_x86_64.whl (24.5 MB)\n",
      "\u001b[2K   \u001b[90m━━━━━━━━━━━━━━━━━━━━━━━━━━━━━━━━━━━━━━━━\u001b[0m \u001b[32m24.5/24.5 MB\u001b[0m \u001b[31m38.8 MB/s\u001b[0m eta \u001b[36m0:00:00\u001b[0m00:01\u001b[0m00:01\u001b[0m\n",
      "\u001b[?25hDownloading ml_dtypes-0.4.1-cp311-cp311-manylinux_2_17_x86_64.manylinux2014_x86_64.whl (2.2 MB)\n",
      "\u001b[2K   \u001b[90m━━━━━━━━━━━━━━━━━━━━━━━━━━━━━━━━━━━━━━━━\u001b[0m \u001b[32m2.2/2.2 MB\u001b[0m \u001b[31m37.3 MB/s\u001b[0m eta \u001b[36m0:00:00\u001b[0m\n",
      "\u001b[?25hDownloading opt_einsum-3.4.0-py3-none-any.whl (71 kB)\n",
      "Downloading tensorflow_io_gcs_filesystem-0.37.1-cp311-cp311-manylinux_2_17_x86_64.manylinux2014_x86_64.whl (5.1 MB)\n",
      "\u001b[2K   \u001b[90m━━━━━━━━━━━━━━━━━━━━━━━━━━━━━━━━━━━━━━━━\u001b[0m \u001b[32m5.1/5.1 MB\u001b[0m \u001b[31m40.3 MB/s\u001b[0m eta \u001b[36m0:00:00\u001b[0m\n",
      "\u001b[?25hDownloading termcolor-2.5.0-py3-none-any.whl (7.8 kB)\n",
      "Downloading namex-0.0.8-py3-none-any.whl (5.8 kB)\n",
      "Downloading optree-0.13.1-cp311-cp311-manylinux_2_17_x86_64.manylinux2014_x86_64.whl (391 kB)\n",
      "Installing collected packages: namex, libclang, flatbuffers, termcolor, tensorflow-io-gcs-filesystem, optree, opt-einsum, ml-dtypes, h5py, google-pasta, gast, astunparse, keras, tensorflow\n",
      "Successfully installed astunparse-1.6.3 flatbuffers-24.3.25 gast-0.6.0 google-pasta-0.2.0 h5py-3.12.1 keras-3.6.0 libclang-18.1.1 ml-dtypes-0.4.1 namex-0.0.8 opt-einsum-3.4.0 optree-0.13.1 tensorflow-2.18.0 tensorflow-io-gcs-filesystem-0.37.1 termcolor-2.5.0\n"
     ]
    }
   ],
   "source": [
    "!pip install tensorflow"
   ]
  },
  {
   "cell_type": "code",
   "execution_count": 13,
   "id": "c17ec662-429a-4cd5-b349-66000c661af8",
   "metadata": {
    "execution": {
     "iopub.execute_input": "2024-11-26T02:29:53.099090Z",
     "iopub.status.busy": "2024-11-26T02:29:53.098761Z",
     "iopub.status.idle": "2024-11-26T02:29:53.102242Z",
     "shell.execute_reply": "2024-11-26T02:29:53.101424Z",
     "shell.execute_reply.started": "2024-11-26T02:29:53.099069Z"
    }
   },
   "outputs": [],
   "source": [
    "import tensorflow\n",
    "from tensorflow import keras"
   ]
  },
  {
   "cell_type": "code",
   "execution_count": 14,
   "id": "01f56833-69b1-4e5a-8e77-c1613844a6c9",
   "metadata": {
    "execution": {
     "iopub.execute_input": "2024-11-26T02:29:53.568984Z",
     "iopub.status.busy": "2024-11-26T02:29:53.568654Z",
     "iopub.status.idle": "2024-11-26T02:29:53.572157Z",
     "shell.execute_reply": "2024-11-26T02:29:53.571403Z",
     "shell.execute_reply.started": "2024-11-26T02:29:53.568962Z"
    }
   },
   "outputs": [],
   "source": [
    "from tensorflow.keras.preprocessing.image import load_img"
   ]
  },
  {
   "cell_type": "markdown",
   "id": "7fa096a6-b680-4459-95ac-1c037ac98933",
   "metadata": {},
   "source": [
    "- 299*299\n",
    "- 224*224\n",
    "- 150*150"
   ]
  },
  {
   "cell_type": "code",
   "execution_count": 40,
   "id": "f5e53989-6cbe-43da-91b4-b59a6b67f667",
   "metadata": {
    "execution": {
     "iopub.execute_input": "2024-11-26T03:07:35.108134Z",
     "iopub.status.busy": "2024-11-26T03:07:35.107800Z",
     "iopub.status.idle": "2024-11-26T03:07:35.111524Z",
     "shell.execute_reply": "2024-11-26T03:07:35.110648Z",
     "shell.execute_reply.started": "2024-11-26T03:07:35.108114Z"
    }
   },
   "outputs": [],
   "source": [
    "img_path = './clothing-dataset-small/train/t-shirt'\n",
    "img_name = '5f0a3fa0-6a3d-4b68-b213-72766a643de7.jpg'\n",
    "full_path = f'{img_path}/{img_name}'"
   ]
  },
  {
   "cell_type": "code",
   "execution_count": 41,
   "id": "3914c1d3-b962-42a9-b5ce-6cea49382826",
   "metadata": {
    "execution": {
     "iopub.execute_input": "2024-11-26T03:07:36.067035Z",
     "iopub.status.busy": "2024-11-26T03:07:36.066705Z",
     "iopub.status.idle": "2024-11-26T03:07:36.072408Z",
     "shell.execute_reply": "2024-11-26T03:07:36.071828Z",
     "shell.execute_reply.started": "2024-11-26T03:07:36.067015Z"
    }
   },
   "outputs": [],
   "source": [
    "img = load_img(full_path, target_size=(299,299))"
   ]
  },
  {
   "cell_type": "code",
   "execution_count": 42,
   "id": "57d60639-a72f-4c9e-b7d0-75667ba9a95b",
   "metadata": {
    "execution": {
     "iopub.execute_input": "2024-11-26T03:07:37.042856Z",
     "iopub.status.busy": "2024-11-26T03:07:37.042551Z",
     "iopub.status.idle": "2024-11-26T03:07:37.047567Z",
     "shell.execute_reply": "2024-11-26T03:07:37.046927Z",
     "shell.execute_reply.started": "2024-11-26T03:07:37.042836Z"
    }
   },
   "outputs": [
    {
     "data": {
      "text/plain": [
       "(299, 299, 3)"
      ]
     },
     "execution_count": 42,
     "metadata": {},
     "output_type": "execute_result"
    }
   ],
   "source": [
    "x = np.array(img)\n",
    "x.shape"
   ]
  },
  {
   "cell_type": "code",
   "execution_count": 49,
   "id": "fe20a1aa-052c-42a1-bb17-c9fe2f4490d3",
   "metadata": {
    "execution": {
     "iopub.execute_input": "2024-11-26T03:07:53.450913Z",
     "iopub.status.busy": "2024-11-26T03:07:53.450607Z",
     "iopub.status.idle": "2024-11-26T03:07:53.454428Z",
     "shell.execute_reply": "2024-11-26T03:07:53.453733Z",
     "shell.execute_reply.started": "2024-11-26T03:07:53.450891Z"
    }
   },
   "outputs": [],
   "source": [
    "from tensorflow.keras.applications.xception import Xception\n",
    "from tensorflow.keras.applications.xception import preprocess_input\n",
    "from tensorflow.keras.applications.xception import decode_predictions"
   ]
  },
  {
   "cell_type": "code",
   "execution_count": 44,
   "id": "bd5cff7b-9924-4e0f-81d0-4e0d1d72a6f0",
   "metadata": {
    "execution": {
     "iopub.execute_input": "2024-11-26T03:07:38.869571Z",
     "iopub.status.busy": "2024-11-26T03:07:38.869263Z",
     "iopub.status.idle": "2024-11-26T03:07:39.999010Z",
     "shell.execute_reply": "2024-11-26T03:07:39.998450Z",
     "shell.execute_reply.started": "2024-11-26T03:07:38.869549Z"
    }
   },
   "outputs": [],
   "source": [
    "model = Xception(weights='imagenet',input_shape=(299,299,3))"
   ]
  },
  {
   "cell_type": "code",
   "execution_count": 45,
   "id": "47512f0d-088c-4737-a356-22422ed1b657",
   "metadata": {
    "execution": {
     "iopub.execute_input": "2024-11-26T03:07:40.000366Z",
     "iopub.status.busy": "2024-11-26T03:07:40.000095Z",
     "iopub.status.idle": "2024-11-26T03:07:40.003723Z",
     "shell.execute_reply": "2024-11-26T03:07:40.003032Z",
     "shell.execute_reply.started": "2024-11-26T03:07:40.000346Z"
    }
   },
   "outputs": [],
   "source": [
    "X = np.array([x])"
   ]
  },
  {
   "cell_type": "code",
   "execution_count": 46,
   "id": "73944a19-53f1-4070-8db2-670333a33d64",
   "metadata": {
    "execution": {
     "iopub.execute_input": "2024-11-26T03:07:40.421677Z",
     "iopub.status.busy": "2024-11-26T03:07:40.421356Z",
     "iopub.status.idle": "2024-11-26T03:07:41.489214Z",
     "shell.execute_reply": "2024-11-26T03:07:41.488488Z",
     "shell.execute_reply.started": "2024-11-26T03:07:40.421656Z"
    }
   },
   "outputs": [
    {
     "name": "stdout",
     "output_type": "stream",
     "text": [
      "\u001b[1m1/1\u001b[0m \u001b[32m━━━━━━━━━━━━━━━━━━━━\u001b[0m\u001b[37m\u001b[0m \u001b[1m1s\u001b[0m 1s/step\n"
     ]
    },
    {
     "data": {
      "text/plain": [
       "array([[0.0000000e+00, 0.0000000e+00, 0.0000000e+00, 0.0000000e+00,\n",
       "        0.0000000e+00, 0.0000000e+00, 0.0000000e+00, 0.0000000e+00,\n",
       "        0.0000000e+00, 0.0000000e+00, 0.0000000e+00, 0.0000000e+00,\n",
       "        0.0000000e+00, 0.0000000e+00, 0.0000000e+00, 0.0000000e+00,\n",
       "        0.0000000e+00, 0.0000000e+00, 0.0000000e+00, 0.0000000e+00,\n",
       "        0.0000000e+00, 0.0000000e+00, 0.0000000e+00, 0.0000000e+00,\n",
       "        0.0000000e+00, 0.0000000e+00, 0.0000000e+00, 0.0000000e+00,\n",
       "        0.0000000e+00, 0.0000000e+00, 0.0000000e+00, 0.0000000e+00,\n",
       "        0.0000000e+00, 0.0000000e+00, 0.0000000e+00, 0.0000000e+00,\n",
       "        0.0000000e+00, 0.0000000e+00, 0.0000000e+00, 0.0000000e+00,\n",
       "        0.0000000e+00, 0.0000000e+00, 0.0000000e+00, 0.0000000e+00,\n",
       "        0.0000000e+00, 0.0000000e+00, 0.0000000e+00, 0.0000000e+00,\n",
       "        0.0000000e+00, 0.0000000e+00, 0.0000000e+00, 0.0000000e+00,\n",
       "        0.0000000e+00, 0.0000000e+00, 0.0000000e+00, 0.0000000e+00,\n",
       "        0.0000000e+00, 0.0000000e+00, 0.0000000e+00, 0.0000000e+00,\n",
       "        0.0000000e+00, 0.0000000e+00, 0.0000000e+00, 0.0000000e+00,\n",
       "        0.0000000e+00, 0.0000000e+00, 0.0000000e+00, 0.0000000e+00,\n",
       "        0.0000000e+00, 0.0000000e+00, 0.0000000e+00, 0.0000000e+00,\n",
       "        0.0000000e+00, 0.0000000e+00, 0.0000000e+00, 0.0000000e+00,\n",
       "        0.0000000e+00, 0.0000000e+00, 0.0000000e+00, 0.0000000e+00,\n",
       "        0.0000000e+00, 0.0000000e+00, 0.0000000e+00, 0.0000000e+00,\n",
       "        0.0000000e+00, 0.0000000e+00, 0.0000000e+00, 0.0000000e+00,\n",
       "        0.0000000e+00, 0.0000000e+00, 0.0000000e+00, 0.0000000e+00,\n",
       "        0.0000000e+00, 0.0000000e+00, 0.0000000e+00, 0.0000000e+00,\n",
       "        0.0000000e+00, 0.0000000e+00, 0.0000000e+00, 0.0000000e+00,\n",
       "        0.0000000e+00, 0.0000000e+00, 0.0000000e+00, 0.0000000e+00,\n",
       "        0.0000000e+00, 0.0000000e+00, 4.3378203e-33, 0.0000000e+00,\n",
       "        0.0000000e+00, 0.0000000e+00, 0.0000000e+00, 0.0000000e+00,\n",
       "        0.0000000e+00, 0.0000000e+00, 0.0000000e+00, 0.0000000e+00,\n",
       "        0.0000000e+00, 0.0000000e+00, 0.0000000e+00, 0.0000000e+00,\n",
       "        0.0000000e+00, 0.0000000e+00, 0.0000000e+00, 0.0000000e+00,\n",
       "        0.0000000e+00, 0.0000000e+00, 0.0000000e+00, 0.0000000e+00,\n",
       "        0.0000000e+00, 0.0000000e+00, 0.0000000e+00, 0.0000000e+00,\n",
       "        0.0000000e+00, 0.0000000e+00, 0.0000000e+00, 0.0000000e+00,\n",
       "        0.0000000e+00, 0.0000000e+00, 0.0000000e+00, 0.0000000e+00,\n",
       "        0.0000000e+00, 0.0000000e+00, 0.0000000e+00, 0.0000000e+00,\n",
       "        0.0000000e+00, 0.0000000e+00, 0.0000000e+00, 0.0000000e+00,\n",
       "        0.0000000e+00, 0.0000000e+00, 0.0000000e+00, 0.0000000e+00,\n",
       "        0.0000000e+00, 0.0000000e+00, 0.0000000e+00, 0.0000000e+00,\n",
       "        0.0000000e+00, 0.0000000e+00, 0.0000000e+00, 0.0000000e+00,\n",
       "        0.0000000e+00, 0.0000000e+00, 0.0000000e+00, 0.0000000e+00,\n",
       "        0.0000000e+00, 0.0000000e+00, 0.0000000e+00, 0.0000000e+00,\n",
       "        0.0000000e+00, 0.0000000e+00, 0.0000000e+00, 0.0000000e+00,\n",
       "        0.0000000e+00, 0.0000000e+00, 0.0000000e+00, 0.0000000e+00,\n",
       "        0.0000000e+00, 0.0000000e+00, 0.0000000e+00, 0.0000000e+00,\n",
       "        0.0000000e+00, 0.0000000e+00, 0.0000000e+00, 0.0000000e+00,\n",
       "        0.0000000e+00, 0.0000000e+00, 0.0000000e+00, 0.0000000e+00,\n",
       "        0.0000000e+00, 0.0000000e+00, 0.0000000e+00, 0.0000000e+00,\n",
       "        0.0000000e+00, 0.0000000e+00, 0.0000000e+00, 0.0000000e+00,\n",
       "        0.0000000e+00, 0.0000000e+00, 0.0000000e+00, 0.0000000e+00,\n",
       "        0.0000000e+00, 0.0000000e+00, 0.0000000e+00, 0.0000000e+00,\n",
       "        0.0000000e+00, 0.0000000e+00, 0.0000000e+00, 0.0000000e+00,\n",
       "        0.0000000e+00, 0.0000000e+00, 0.0000000e+00, 0.0000000e+00,\n",
       "        0.0000000e+00, 0.0000000e+00, 0.0000000e+00, 0.0000000e+00,\n",
       "        0.0000000e+00, 0.0000000e+00, 0.0000000e+00, 0.0000000e+00,\n",
       "        0.0000000e+00, 0.0000000e+00, 0.0000000e+00, 0.0000000e+00,\n",
       "        0.0000000e+00, 0.0000000e+00, 0.0000000e+00, 0.0000000e+00,\n",
       "        0.0000000e+00, 0.0000000e+00, 0.0000000e+00, 0.0000000e+00,\n",
       "        0.0000000e+00, 0.0000000e+00, 0.0000000e+00, 4.9838951e-33,\n",
       "        0.0000000e+00, 0.0000000e+00, 0.0000000e+00, 0.0000000e+00,\n",
       "        0.0000000e+00, 0.0000000e+00, 0.0000000e+00, 0.0000000e+00,\n",
       "        0.0000000e+00, 0.0000000e+00, 0.0000000e+00, 0.0000000e+00,\n",
       "        0.0000000e+00, 0.0000000e+00, 0.0000000e+00, 0.0000000e+00,\n",
       "        0.0000000e+00, 0.0000000e+00, 0.0000000e+00, 0.0000000e+00,\n",
       "        0.0000000e+00, 0.0000000e+00, 0.0000000e+00, 0.0000000e+00,\n",
       "        0.0000000e+00, 1.1013436e-31, 0.0000000e+00, 0.0000000e+00,\n",
       "        0.0000000e+00, 0.0000000e+00, 0.0000000e+00, 0.0000000e+00,\n",
       "        0.0000000e+00, 0.0000000e+00, 0.0000000e+00, 0.0000000e+00,\n",
       "        0.0000000e+00, 0.0000000e+00, 0.0000000e+00, 0.0000000e+00,\n",
       "        0.0000000e+00, 0.0000000e+00, 0.0000000e+00, 0.0000000e+00,\n",
       "        0.0000000e+00, 0.0000000e+00, 0.0000000e+00, 0.0000000e+00,\n",
       "        0.0000000e+00, 0.0000000e+00, 0.0000000e+00, 0.0000000e+00,\n",
       "        0.0000000e+00, 0.0000000e+00, 0.0000000e+00, 0.0000000e+00,\n",
       "        0.0000000e+00, 0.0000000e+00, 0.0000000e+00, 0.0000000e+00,\n",
       "        0.0000000e+00, 0.0000000e+00, 0.0000000e+00, 0.0000000e+00,\n",
       "        0.0000000e+00, 0.0000000e+00, 0.0000000e+00, 0.0000000e+00,\n",
       "        0.0000000e+00, 0.0000000e+00, 0.0000000e+00, 0.0000000e+00,\n",
       "        0.0000000e+00, 0.0000000e+00, 0.0000000e+00, 0.0000000e+00,\n",
       "        0.0000000e+00, 0.0000000e+00, 0.0000000e+00, 0.0000000e+00,\n",
       "        0.0000000e+00, 0.0000000e+00, 0.0000000e+00, 0.0000000e+00,\n",
       "        0.0000000e+00, 0.0000000e+00, 0.0000000e+00, 0.0000000e+00,\n",
       "        0.0000000e+00, 0.0000000e+00, 0.0000000e+00, 0.0000000e+00,\n",
       "        4.2215291e-38, 0.0000000e+00, 0.0000000e+00, 0.0000000e+00,\n",
       "        0.0000000e+00, 0.0000000e+00, 0.0000000e+00, 0.0000000e+00,\n",
       "        0.0000000e+00, 0.0000000e+00, 0.0000000e+00, 0.0000000e+00,\n",
       "        0.0000000e+00, 0.0000000e+00, 0.0000000e+00, 0.0000000e+00,\n",
       "        0.0000000e+00, 0.0000000e+00, 0.0000000e+00, 0.0000000e+00,\n",
       "        0.0000000e+00, 0.0000000e+00, 0.0000000e+00, 0.0000000e+00,\n",
       "        0.0000000e+00, 0.0000000e+00, 0.0000000e+00, 0.0000000e+00,\n",
       "        0.0000000e+00, 0.0000000e+00, 6.0711929e-38, 9.6350106e-32,\n",
       "        0.0000000e+00, 0.0000000e+00, 0.0000000e+00, 0.0000000e+00,\n",
       "        0.0000000e+00, 0.0000000e+00, 0.0000000e+00, 0.0000000e+00,\n",
       "        0.0000000e+00, 0.0000000e+00, 0.0000000e+00, 0.0000000e+00,\n",
       "        0.0000000e+00, 0.0000000e+00, 0.0000000e+00, 0.0000000e+00,\n",
       "        0.0000000e+00, 0.0000000e+00, 0.0000000e+00, 0.0000000e+00,\n",
       "        0.0000000e+00, 0.0000000e+00, 0.0000000e+00, 0.0000000e+00,\n",
       "        0.0000000e+00, 0.0000000e+00, 0.0000000e+00, 0.0000000e+00,\n",
       "        0.0000000e+00, 0.0000000e+00, 0.0000000e+00, 0.0000000e+00,\n",
       "        0.0000000e+00, 0.0000000e+00, 0.0000000e+00, 0.0000000e+00,\n",
       "        0.0000000e+00, 0.0000000e+00, 0.0000000e+00, 0.0000000e+00,\n",
       "        0.0000000e+00, 0.0000000e+00, 0.0000000e+00, 0.0000000e+00,\n",
       "        0.0000000e+00, 0.0000000e+00, 0.0000000e+00, 0.0000000e+00,\n",
       "        0.0000000e+00, 0.0000000e+00, 0.0000000e+00, 0.0000000e+00,\n",
       "        0.0000000e+00, 0.0000000e+00, 0.0000000e+00, 0.0000000e+00,\n",
       "        0.0000000e+00, 0.0000000e+00, 0.0000000e+00, 0.0000000e+00,\n",
       "        0.0000000e+00, 0.0000000e+00, 0.0000000e+00, 0.0000000e+00,\n",
       "        0.0000000e+00, 0.0000000e+00, 0.0000000e+00, 0.0000000e+00,\n",
       "        0.0000000e+00, 0.0000000e+00, 0.0000000e+00, 0.0000000e+00,\n",
       "        0.0000000e+00, 0.0000000e+00, 0.0000000e+00, 0.0000000e+00,\n",
       "        0.0000000e+00, 0.0000000e+00, 0.0000000e+00, 0.0000000e+00,\n",
       "        0.0000000e+00, 0.0000000e+00, 0.0000000e+00, 4.8133509e-36,\n",
       "        0.0000000e+00, 0.0000000e+00, 0.0000000e+00, 0.0000000e+00,\n",
       "        0.0000000e+00, 0.0000000e+00, 0.0000000e+00, 0.0000000e+00,\n",
       "        0.0000000e+00, 0.0000000e+00, 0.0000000e+00, 0.0000000e+00,\n",
       "        0.0000000e+00, 0.0000000e+00, 0.0000000e+00, 0.0000000e+00,\n",
       "        0.0000000e+00, 0.0000000e+00, 0.0000000e+00, 0.0000000e+00,\n",
       "        0.0000000e+00, 0.0000000e+00, 0.0000000e+00, 0.0000000e+00,\n",
       "        0.0000000e+00, 0.0000000e+00, 0.0000000e+00, 0.0000000e+00,\n",
       "        0.0000000e+00, 0.0000000e+00, 0.0000000e+00, 0.0000000e+00,\n",
       "        0.0000000e+00, 0.0000000e+00, 0.0000000e+00, 0.0000000e+00,\n",
       "        0.0000000e+00, 0.0000000e+00, 0.0000000e+00, 0.0000000e+00,\n",
       "        0.0000000e+00, 0.0000000e+00, 0.0000000e+00, 0.0000000e+00,\n",
       "        0.0000000e+00, 0.0000000e+00, 0.0000000e+00, 0.0000000e+00,\n",
       "        0.0000000e+00, 0.0000000e+00, 0.0000000e+00, 0.0000000e+00,\n",
       "        0.0000000e+00, 0.0000000e+00, 0.0000000e+00, 0.0000000e+00,\n",
       "        0.0000000e+00, 0.0000000e+00, 0.0000000e+00, 0.0000000e+00,\n",
       "        0.0000000e+00, 0.0000000e+00, 0.0000000e+00, 0.0000000e+00,\n",
       "        0.0000000e+00, 0.0000000e+00, 0.0000000e+00, 0.0000000e+00,\n",
       "        0.0000000e+00, 0.0000000e+00, 0.0000000e+00, 0.0000000e+00,\n",
       "        0.0000000e+00, 0.0000000e+00, 0.0000000e+00, 0.0000000e+00,\n",
       "        0.0000000e+00, 0.0000000e+00, 0.0000000e+00, 0.0000000e+00,\n",
       "        0.0000000e+00, 0.0000000e+00, 0.0000000e+00, 0.0000000e+00,\n",
       "        0.0000000e+00, 0.0000000e+00, 0.0000000e+00, 0.0000000e+00,\n",
       "        0.0000000e+00, 0.0000000e+00, 0.0000000e+00, 0.0000000e+00,\n",
       "        0.0000000e+00, 0.0000000e+00, 0.0000000e+00, 0.0000000e+00,\n",
       "        0.0000000e+00, 0.0000000e+00, 0.0000000e+00, 0.0000000e+00,\n",
       "        0.0000000e+00, 0.0000000e+00, 0.0000000e+00, 0.0000000e+00,\n",
       "        0.0000000e+00, 3.8850295e-34, 0.0000000e+00, 0.0000000e+00,\n",
       "        0.0000000e+00, 0.0000000e+00, 0.0000000e+00, 0.0000000e+00,\n",
       "        0.0000000e+00, 0.0000000e+00, 0.0000000e+00, 0.0000000e+00,\n",
       "        0.0000000e+00, 0.0000000e+00, 0.0000000e+00, 0.0000000e+00,\n",
       "        0.0000000e+00, 0.0000000e+00, 0.0000000e+00, 0.0000000e+00,\n",
       "        0.0000000e+00, 0.0000000e+00, 0.0000000e+00, 0.0000000e+00,\n",
       "        0.0000000e+00, 0.0000000e+00, 1.0299506e-23, 0.0000000e+00,\n",
       "        0.0000000e+00, 0.0000000e+00, 0.0000000e+00, 0.0000000e+00,\n",
       "        0.0000000e+00, 0.0000000e+00, 0.0000000e+00, 0.0000000e+00,\n",
       "        0.0000000e+00, 0.0000000e+00, 0.0000000e+00, 0.0000000e+00,\n",
       "        0.0000000e+00, 0.0000000e+00, 0.0000000e+00, 0.0000000e+00,\n",
       "        0.0000000e+00, 0.0000000e+00, 0.0000000e+00, 0.0000000e+00,\n",
       "        0.0000000e+00, 0.0000000e+00, 0.0000000e+00, 0.0000000e+00,\n",
       "        0.0000000e+00, 0.0000000e+00, 0.0000000e+00, 0.0000000e+00,\n",
       "        0.0000000e+00, 0.0000000e+00, 0.0000000e+00, 0.0000000e+00,\n",
       "        0.0000000e+00, 0.0000000e+00, 0.0000000e+00, 0.0000000e+00,\n",
       "        0.0000000e+00, 0.0000000e+00, 0.0000000e+00, 0.0000000e+00,\n",
       "        0.0000000e+00, 0.0000000e+00, 0.0000000e+00, 1.9289115e-31,\n",
       "        0.0000000e+00, 0.0000000e+00, 0.0000000e+00, 0.0000000e+00,\n",
       "        0.0000000e+00, 0.0000000e+00, 0.0000000e+00, 0.0000000e+00,\n",
       "        0.0000000e+00, 0.0000000e+00, 0.0000000e+00, 0.0000000e+00,\n",
       "        0.0000000e+00, 0.0000000e+00, 0.0000000e+00, 0.0000000e+00,\n",
       "        0.0000000e+00, 0.0000000e+00, 0.0000000e+00, 0.0000000e+00,\n",
       "        0.0000000e+00, 0.0000000e+00, 0.0000000e+00, 0.0000000e+00,\n",
       "        0.0000000e+00, 0.0000000e+00, 0.0000000e+00, 0.0000000e+00,\n",
       "        0.0000000e+00, 0.0000000e+00, 0.0000000e+00, 0.0000000e+00,\n",
       "        0.0000000e+00, 0.0000000e+00, 0.0000000e+00, 0.0000000e+00,\n",
       "        0.0000000e+00, 0.0000000e+00, 0.0000000e+00, 9.9503845e-01,\n",
       "        0.0000000e+00, 0.0000000e+00, 0.0000000e+00, 0.0000000e+00,\n",
       "        0.0000000e+00, 0.0000000e+00, 0.0000000e+00, 0.0000000e+00,\n",
       "        0.0000000e+00, 0.0000000e+00, 0.0000000e+00, 0.0000000e+00,\n",
       "        0.0000000e+00, 0.0000000e+00, 0.0000000e+00, 0.0000000e+00,\n",
       "        0.0000000e+00, 0.0000000e+00, 0.0000000e+00, 0.0000000e+00,\n",
       "        0.0000000e+00, 0.0000000e+00, 0.0000000e+00, 0.0000000e+00,\n",
       "        0.0000000e+00, 0.0000000e+00, 0.0000000e+00, 0.0000000e+00,\n",
       "        0.0000000e+00, 0.0000000e+00, 0.0000000e+00, 0.0000000e+00,\n",
       "        0.0000000e+00, 0.0000000e+00, 0.0000000e+00, 0.0000000e+00,\n",
       "        0.0000000e+00, 0.0000000e+00, 0.0000000e+00, 0.0000000e+00,\n",
       "        0.0000000e+00, 0.0000000e+00, 0.0000000e+00, 0.0000000e+00,\n",
       "        0.0000000e+00, 0.0000000e+00, 0.0000000e+00, 0.0000000e+00,\n",
       "        0.0000000e+00, 0.0000000e+00, 0.0000000e+00, 0.0000000e+00,\n",
       "        0.0000000e+00, 0.0000000e+00, 0.0000000e+00, 0.0000000e+00,\n",
       "        0.0000000e+00, 0.0000000e+00, 0.0000000e+00, 0.0000000e+00,\n",
       "        0.0000000e+00, 2.8600271e-31, 4.9615107e-03, 0.0000000e+00,\n",
       "        0.0000000e+00, 0.0000000e+00, 0.0000000e+00, 0.0000000e+00,\n",
       "        0.0000000e+00, 0.0000000e+00, 0.0000000e+00, 0.0000000e+00,\n",
       "        0.0000000e+00, 0.0000000e+00, 0.0000000e+00, 0.0000000e+00,\n",
       "        2.7315741e-33, 0.0000000e+00, 0.0000000e+00, 0.0000000e+00,\n",
       "        0.0000000e+00, 0.0000000e+00, 0.0000000e+00, 0.0000000e+00,\n",
       "        0.0000000e+00, 0.0000000e+00, 0.0000000e+00, 0.0000000e+00,\n",
       "        0.0000000e+00, 0.0000000e+00, 0.0000000e+00, 0.0000000e+00,\n",
       "        0.0000000e+00, 0.0000000e+00, 0.0000000e+00, 0.0000000e+00,\n",
       "        0.0000000e+00, 0.0000000e+00, 0.0000000e+00, 0.0000000e+00,\n",
       "        0.0000000e+00, 0.0000000e+00, 0.0000000e+00, 0.0000000e+00,\n",
       "        0.0000000e+00, 0.0000000e+00, 0.0000000e+00, 6.9304538e-22,\n",
       "        0.0000000e+00, 0.0000000e+00, 0.0000000e+00, 0.0000000e+00,\n",
       "        9.1094164e-31, 0.0000000e+00, 0.0000000e+00, 0.0000000e+00,\n",
       "        0.0000000e+00, 0.0000000e+00, 0.0000000e+00, 0.0000000e+00,\n",
       "        0.0000000e+00, 2.3814304e-26, 0.0000000e+00, 0.0000000e+00,\n",
       "        0.0000000e+00, 0.0000000e+00, 0.0000000e+00, 0.0000000e+00,\n",
       "        0.0000000e+00, 0.0000000e+00, 0.0000000e+00, 0.0000000e+00,\n",
       "        0.0000000e+00, 0.0000000e+00, 0.0000000e+00, 0.0000000e+00,\n",
       "        0.0000000e+00, 0.0000000e+00, 0.0000000e+00, 0.0000000e+00,\n",
       "        0.0000000e+00, 0.0000000e+00, 0.0000000e+00, 0.0000000e+00,\n",
       "        0.0000000e+00, 0.0000000e+00, 0.0000000e+00, 0.0000000e+00,\n",
       "        0.0000000e+00, 0.0000000e+00, 0.0000000e+00, 0.0000000e+00,\n",
       "        0.0000000e+00, 1.0167022e-37, 0.0000000e+00, 0.0000000e+00,\n",
       "        0.0000000e+00, 0.0000000e+00, 1.9513744e-30, 0.0000000e+00,\n",
       "        0.0000000e+00, 0.0000000e+00, 0.0000000e+00, 0.0000000e+00,\n",
       "        0.0000000e+00, 0.0000000e+00, 0.0000000e+00, 0.0000000e+00,\n",
       "        5.4796784e-38, 0.0000000e+00, 0.0000000e+00, 0.0000000e+00,\n",
       "        0.0000000e+00, 0.0000000e+00, 0.0000000e+00, 0.0000000e+00,\n",
       "        0.0000000e+00, 4.0562781e-29, 0.0000000e+00, 0.0000000e+00,\n",
       "        0.0000000e+00, 0.0000000e+00, 0.0000000e+00, 0.0000000e+00,\n",
       "        0.0000000e+00, 0.0000000e+00, 3.7473648e-23, 0.0000000e+00,\n",
       "        0.0000000e+00, 0.0000000e+00, 0.0000000e+00, 0.0000000e+00,\n",
       "        0.0000000e+00, 0.0000000e+00, 0.0000000e+00, 0.0000000e+00,\n",
       "        0.0000000e+00, 0.0000000e+00, 0.0000000e+00, 0.0000000e+00,\n",
       "        0.0000000e+00, 0.0000000e+00, 0.0000000e+00, 0.0000000e+00,\n",
       "        0.0000000e+00, 0.0000000e+00, 0.0000000e+00, 0.0000000e+00,\n",
       "        0.0000000e+00, 0.0000000e+00, 0.0000000e+00, 0.0000000e+00,\n",
       "        4.0615510e-25, 0.0000000e+00, 0.0000000e+00, 0.0000000e+00,\n",
       "        0.0000000e+00, 0.0000000e+00, 0.0000000e+00, 1.1216262e-33,\n",
       "        0.0000000e+00, 0.0000000e+00, 0.0000000e+00, 0.0000000e+00,\n",
       "        0.0000000e+00, 0.0000000e+00, 0.0000000e+00, 0.0000000e+00,\n",
       "        0.0000000e+00, 0.0000000e+00, 0.0000000e+00, 0.0000000e+00,\n",
       "        0.0000000e+00, 0.0000000e+00, 0.0000000e+00, 0.0000000e+00,\n",
       "        0.0000000e+00, 0.0000000e+00, 0.0000000e+00, 0.0000000e+00,\n",
       "        0.0000000e+00, 0.0000000e+00, 0.0000000e+00, 0.0000000e+00,\n",
       "        0.0000000e+00, 0.0000000e+00, 0.0000000e+00, 0.0000000e+00,\n",
       "        0.0000000e+00, 0.0000000e+00, 0.0000000e+00, 0.0000000e+00,\n",
       "        0.0000000e+00, 0.0000000e+00, 0.0000000e+00, 0.0000000e+00,\n",
       "        1.0440004e-32, 0.0000000e+00, 0.0000000e+00, 0.0000000e+00,\n",
       "        0.0000000e+00, 0.0000000e+00, 0.0000000e+00, 0.0000000e+00,\n",
       "        0.0000000e+00, 0.0000000e+00, 0.0000000e+00, 0.0000000e+00,\n",
       "        0.0000000e+00, 0.0000000e+00, 0.0000000e+00, 0.0000000e+00,\n",
       "        0.0000000e+00, 0.0000000e+00, 0.0000000e+00, 0.0000000e+00,\n",
       "        0.0000000e+00, 0.0000000e+00, 0.0000000e+00, 0.0000000e+00,\n",
       "        0.0000000e+00, 0.0000000e+00, 0.0000000e+00, 0.0000000e+00,\n",
       "        0.0000000e+00, 0.0000000e+00, 0.0000000e+00, 0.0000000e+00,\n",
       "        0.0000000e+00, 0.0000000e+00, 4.2352074e-38, 0.0000000e+00,\n",
       "        0.0000000e+00, 0.0000000e+00, 0.0000000e+00, 0.0000000e+00,\n",
       "        0.0000000e+00, 0.0000000e+00, 0.0000000e+00, 0.0000000e+00,\n",
       "        0.0000000e+00, 0.0000000e+00, 0.0000000e+00, 0.0000000e+00,\n",
       "        0.0000000e+00, 0.0000000e+00, 0.0000000e+00, 0.0000000e+00,\n",
       "        2.7634598e-31, 0.0000000e+00, 0.0000000e+00, 0.0000000e+00,\n",
       "        0.0000000e+00, 0.0000000e+00, 0.0000000e+00, 0.0000000e+00,\n",
       "        0.0000000e+00, 0.0000000e+00, 0.0000000e+00, 0.0000000e+00,\n",
       "        0.0000000e+00, 0.0000000e+00, 0.0000000e+00, 0.0000000e+00,\n",
       "        0.0000000e+00, 0.0000000e+00, 0.0000000e+00, 0.0000000e+00,\n",
       "        0.0000000e+00, 0.0000000e+00, 0.0000000e+00, 0.0000000e+00,\n",
       "        0.0000000e+00, 0.0000000e+00, 0.0000000e+00, 0.0000000e+00,\n",
       "        0.0000000e+00, 0.0000000e+00, 0.0000000e+00, 0.0000000e+00]],\n",
       "      dtype=float32)"
      ]
     },
     "execution_count": 46,
     "metadata": {},
     "output_type": "execute_result"
    }
   ],
   "source": [
    "# Preprocessing required\n",
    "model.predict(X)"
   ]
  },
  {
   "cell_type": "code",
   "execution_count": 47,
   "id": "3859b083-4afd-40b3-a5bc-6c8a636a1fbe",
   "metadata": {
    "execution": {
     "iopub.execute_input": "2024-11-26T03:07:41.855893Z",
     "iopub.status.busy": "2024-11-26T03:07:41.855639Z",
     "iopub.status.idle": "2024-11-26T03:07:41.859389Z",
     "shell.execute_reply": "2024-11-26T03:07:41.858580Z",
     "shell.execute_reply.started": "2024-11-26T03:07:41.855874Z"
    }
   },
   "outputs": [],
   "source": [
    "#  After applying data preprocessing\n",
    "\n",
    "X = preprocess_input(X)"
   ]
  },
  {
   "cell_type": "code",
   "execution_count": 48,
   "id": "51e30c8c-4074-472d-8fe2-b73b7c312bd7",
   "metadata": {
    "execution": {
     "iopub.execute_input": "2024-11-26T03:07:42.837374Z",
     "iopub.status.busy": "2024-11-26T03:07:42.837060Z",
     "iopub.status.idle": "2024-11-26T03:07:43.951479Z",
     "shell.execute_reply": "2024-11-26T03:07:43.950807Z",
     "shell.execute_reply.started": "2024-11-26T03:07:42.837353Z"
    }
   },
   "outputs": [
    {
     "name": "stdout",
     "output_type": "stream",
     "text": [
      "\u001b[1m1/1\u001b[0m \u001b[32m━━━━━━━━━━━━━━━━━━━━\u001b[0m\u001b[37m\u001b[0m \u001b[1m1s\u001b[0m 1s/step\n"
     ]
    },
    {
     "data": {
      "text/plain": [
       "array([[3.23712331e-04, 1.57383911e-04, 2.13493302e-04, 1.52370587e-04,\n",
       "        2.47626362e-04, 3.05036170e-04, 3.20592429e-04, 1.47499377e-04,\n",
       "        2.03621938e-04, 1.49272499e-04, 1.95663190e-04, 2.10137514e-04,\n",
       "        7.59265386e-05, 1.13972281e-04, 1.62683617e-04, 2.04638724e-04,\n",
       "        1.97416070e-04, 1.44288948e-04, 1.40217569e-04, 1.73686058e-04,\n",
       "        7.46690668e-04, 2.56966916e-04, 2.66808987e-04, 2.96514510e-04,\n",
       "        3.73602496e-04, 2.77404237e-04, 2.16571178e-04, 2.27270255e-04,\n",
       "        3.80813115e-04, 1.72166037e-04, 3.05401016e-04, 1.96431414e-04,\n",
       "        3.92115180e-04, 4.78071655e-04, 2.91751465e-04, 3.25693371e-04,\n",
       "        1.47395316e-04, 1.62362165e-04, 2.12710875e-04, 1.34028334e-04,\n",
       "        2.40070629e-04, 6.75211602e-04, 2.54943705e-04, 1.44478821e-04,\n",
       "        4.12821362e-04, 2.04408760e-04, 3.02958331e-04, 1.49339699e-04,\n",
       "        1.99653819e-04, 2.27005978e-04, 2.93729448e-04, 2.27444791e-04,\n",
       "        6.37644436e-04, 7.82615796e-04, 2.49557459e-04, 4.05270839e-04,\n",
       "        2.98437517e-04, 1.94578519e-04, 4.18178417e-04, 4.46840859e-04,\n",
       "        1.89225757e-04, 2.20415546e-04, 1.66704122e-04, 9.56101285e-05,\n",
       "        4.43347031e-04, 4.68783808e-04, 2.09414298e-04, 2.08906640e-04,\n",
       "        2.92222889e-04, 1.65472913e-04, 2.52797559e-04, 1.87142723e-04,\n",
       "        3.27152578e-04, 3.09903320e-04, 2.61813693e-04, 2.06038472e-04,\n",
       "        2.88651092e-04, 1.77881389e-04, 1.54110239e-04, 2.35764688e-04,\n",
       "        4.49023966e-04, 1.50890119e-04, 2.96581682e-04, 2.29358891e-04,\n",
       "        1.50666092e-04, 1.46149003e-04, 2.29143319e-04, 1.62977114e-04,\n",
       "        1.02747603e-04, 1.25728955e-04, 1.38827512e-04, 3.58132034e-04,\n",
       "        3.02197703e-04, 1.75260604e-04, 1.08938817e-04, 2.32444349e-04,\n",
       "        1.51490225e-04, 3.23407614e-04, 6.11128344e-04, 1.96840978e-04,\n",
       "        2.87704461e-04, 6.57080032e-04, 1.88291495e-04, 3.15079145e-04,\n",
       "        1.11207111e-04, 1.62989862e-04, 2.66107760e-04, 1.11718415e-04,\n",
       "        2.01126677e-04, 1.95702189e-04, 1.44311096e-04, 2.13545034e-04,\n",
       "        8.92839016e-05, 1.09155335e-04, 1.21668032e-04, 1.75816211e-04,\n",
       "        1.49918909e-04, 8.24094604e-05, 1.45772327e-04, 1.67100909e-04,\n",
       "        2.78395572e-04, 1.53268338e-04, 1.77590526e-04, 1.38543415e-04,\n",
       "        2.61310692e-04, 1.15346877e-04, 1.23351943e-04, 2.56074854e-04,\n",
       "        4.04171209e-04, 2.72416102e-04, 1.42684527e-04, 3.92191287e-04,\n",
       "        1.54191250e-04, 5.84178022e-04, 1.49161351e-04, 6.45012828e-04,\n",
       "        6.41179970e-04, 8.50250595e-04, 6.21290004e-04, 3.01345397e-04,\n",
       "        1.91342944e-04, 4.20021359e-04, 5.72936377e-04, 4.91925166e-04,\n",
       "        1.50310894e-04, 9.82924103e-05, 2.81784276e-04, 3.86093627e-04,\n",
       "        1.83081662e-04, 1.84246441e-04, 1.69226158e-04, 8.55846301e-05,\n",
       "        1.59043324e-04, 2.80912936e-04, 1.84566510e-04, 2.11602310e-04,\n",
       "        1.57530929e-04, 7.75501176e-05, 9.75287039e-05, 1.55271991e-04,\n",
       "        1.99218455e-04, 1.05739578e-04, 9.97858442e-05, 1.24775863e-04,\n",
       "        1.25937891e-04, 1.25329956e-04, 1.05936204e-04, 1.10501445e-04,\n",
       "        2.10637721e-04, 3.98860633e-04, 1.66145750e-04, 1.11239366e-04,\n",
       "        1.74040892e-04, 3.97956930e-04, 2.21922368e-04, 2.07707155e-04,\n",
       "        4.42684977e-04, 2.79875909e-04, 1.84935096e-04, 1.44996317e-04,\n",
       "        9.08343864e-05, 3.01898835e-04, 3.16586025e-04, 6.39168953e-04,\n",
       "        4.35968919e-04, 2.06204582e-04, 2.92502984e-04, 1.92065636e-04,\n",
       "        2.10183207e-04, 2.09769481e-04, 4.03513230e-04, 1.81973854e-04,\n",
       "        2.66420480e-04, 1.53606961e-04, 2.56262487e-04, 8.45566610e-05,\n",
       "        5.00109745e-04, 2.15730965e-04, 2.53121165e-04, 1.98794471e-04,\n",
       "        1.91062863e-04, 2.57798762e-04, 3.99286335e-04, 3.40727245e-04,\n",
       "        3.53425567e-04, 2.17982291e-04, 1.49507716e-04, 1.84135773e-04,\n",
       "        9.08858565e-05, 1.79934956e-04, 1.07181164e-04, 2.23753814e-04,\n",
       "        2.37199041e-04, 1.93462954e-04, 1.50989741e-04, 1.91398794e-04,\n",
       "        1.50956475e-04, 1.80540170e-04, 2.55909312e-04, 5.60943881e-05,\n",
       "        1.30190223e-04, 1.28797823e-04, 5.65185910e-04, 6.94465634e-05,\n",
       "        1.96601046e-04, 3.15419311e-04, 1.40727963e-04, 1.87881786e-04,\n",
       "        1.19411285e-04, 2.32016348e-04, 1.48083869e-04, 1.24204103e-04,\n",
       "        3.18227452e-04, 4.23622580e-04, 2.75731378e-04, 2.26704622e-04,\n",
       "        1.99932008e-04, 9.17613070e-05, 5.02171286e-04, 2.79754924e-04,\n",
       "        4.53746412e-04, 3.89443623e-04, 9.62054692e-05, 1.09810615e-04,\n",
       "        2.04429030e-04, 6.39027858e-05, 9.33206247e-05, 1.29511231e-04,\n",
       "        1.35651804e-04, 1.08546912e-04, 1.53163288e-04, 2.80006352e-04,\n",
       "        3.85704800e-04, 7.53500353e-05, 1.28342683e-04, 2.86544295e-04,\n",
       "        1.17805081e-04, 1.77703871e-04, 1.26859668e-04, 1.21194389e-04,\n",
       "        1.28389074e-04, 2.94205616e-04, 3.61328159e-04, 1.14310926e-04,\n",
       "        9.30753158e-05, 1.34613743e-04, 8.95774574e-05, 1.12352005e-04,\n",
       "        1.58339593e-04, 1.96552675e-04, 1.82631207e-04, 1.91917148e-04,\n",
       "        4.46938240e-04, 4.55961534e-04, 1.98947717e-04, 2.87369796e-04,\n",
       "        2.15591921e-04, 2.54737010e-04, 3.04193702e-04, 1.13281472e-04,\n",
       "        2.18705667e-04, 8.02762806e-05, 1.06885040e-04, 1.75250418e-04,\n",
       "        8.50214419e-05, 7.85708908e-05, 2.75650527e-04, 1.45162339e-04,\n",
       "        3.44201922e-04, 2.48158613e-04, 3.50278249e-04, 4.25881502e-04,\n",
       "        1.80593895e-04, 1.85369106e-04, 1.54410052e-04, 2.38929526e-04,\n",
       "        2.49506760e-04, 2.84061505e-04, 1.82551797e-04, 2.50875368e-04,\n",
       "        3.38421669e-04, 2.82435620e-04, 1.75149980e-04, 1.37145878e-04,\n",
       "        2.20066882e-04, 2.95642152e-04, 1.82779317e-04, 1.11595000e-04,\n",
       "        1.73120163e-04, 9.69033572e-05, 2.13932741e-04, 1.91576473e-04,\n",
       "        1.75669396e-04, 2.70114106e-04, 2.27870769e-04, 2.72431178e-04,\n",
       "        1.88401231e-04, 2.04107986e-04, 2.72696954e-04, 1.48590741e-04,\n",
       "        1.04270046e-04, 1.86353747e-04, 3.17045429e-04, 1.75706926e-04,\n",
       "        1.79471710e-04, 3.14682722e-04, 3.73641145e-04, 2.74071994e-04,\n",
       "        1.75247405e-04, 1.40939374e-04, 2.59807566e-04, 1.27165767e-04,\n",
       "        1.61800752e-04, 1.68832354e-04, 1.84690289e-04, 2.70924822e-04,\n",
       "        1.88832957e-04, 3.64329753e-04, 1.56003138e-04, 2.38079971e-04,\n",
       "        1.40097662e-04, 1.23805221e-04, 2.30295453e-04, 7.22752535e-04,\n",
       "        2.75076454e-04, 6.87530483e-05, 2.68143835e-04, 1.34426315e-04,\n",
       "        1.83398995e-04, 3.03192617e-04, 2.26094242e-04, 1.25760489e-04,\n",
       "        2.47431482e-04, 1.85572891e-04, 1.70755069e-04, 1.05118314e-04,\n",
       "        2.40343579e-04, 3.37384961e-04, 3.87851731e-04, 2.36352498e-04,\n",
       "        2.88605544e-04, 3.84753104e-04, 3.24620283e-04, 3.76792421e-04,\n",
       "        2.92597542e-04, 3.00624350e-04, 1.51028333e-04, 2.39894653e-04,\n",
       "        2.82680965e-04, 1.71600201e-04, 1.00430938e-04, 9.78779353e-05,\n",
       "        1.19894306e-04, 1.95360379e-04, 2.12995685e-04, 3.59134312e-04,\n",
       "        8.38840715e-05, 1.68104714e-04, 1.81672323e-04, 2.54735700e-04,\n",
       "        1.98858383e-04, 2.62791902e-04, 4.57277521e-04, 3.14938370e-04,\n",
       "        5.51678124e-04, 7.62667856e-04, 3.25322238e-04, 2.02113268e-04,\n",
       "        3.23462358e-04, 4.82669566e-04, 2.24288349e-04, 8.82347231e-04,\n",
       "        2.30063524e-04, 1.50288965e-04, 1.71380074e-04, 3.43488704e-04,\n",
       "        1.17185999e-04, 5.26043877e-04, 2.59742810e-04, 7.00955163e-04,\n",
       "        4.59479808e-04, 5.74604528e-05, 1.83634911e-04, 2.54373357e-04,\n",
       "        2.11473627e-04, 1.35963666e-04, 7.64672513e-05, 6.42550236e-04,\n",
       "        3.32445547e-04, 1.16450945e-04, 1.26130064e-04, 1.57385634e-03,\n",
       "        7.68203929e-04, 3.54506104e-04, 7.37702998e-04, 1.12571121e-04,\n",
       "        1.17885102e-04, 9.60555844e-05, 1.08106411e-04, 3.49021982e-04,\n",
       "        5.11174912e-05, 1.47707702e-04, 5.03701798e-04, 1.38293661e-04,\n",
       "        2.76885927e-04, 2.20348084e-04, 9.85603037e-05, 2.25449825e-04,\n",
       "        1.59402596e-04, 1.13858216e-04, 1.81312309e-04, 2.04742377e-04,\n",
       "        2.44569004e-04, 4.08363761e-04, 1.14853581e-04, 1.01622245e-04,\n",
       "        1.93550979e-04, 4.70537081e-04, 2.29982688e-04, 4.63910139e-04,\n",
       "        7.95773813e-05, 2.73056998e-04, 9.60713078e-04, 6.03182125e-04,\n",
       "        2.39189074e-04, 1.22581478e-04, 1.89596976e-04, 2.95722915e-04,\n",
       "        1.48532927e-04, 3.57241195e-04, 1.69669584e-04, 1.55826652e-04,\n",
       "        1.33859212e-04, 2.13376072e-04, 3.07467155e-04, 1.65237958e-04,\n",
       "        2.05174554e-04, 9.63405255e-05, 1.58176437e-04, 2.31911050e-04,\n",
       "        2.51845748e-04, 3.66785593e-04, 1.11166395e-04, 1.45040292e-04,\n",
       "        1.60413052e-04, 3.81400511e-02, 2.17359920e-04, 1.32239773e-04,\n",
       "        2.10973842e-04, 1.31118504e-04, 4.99749913e-05, 2.18968009e-04,\n",
       "        1.18925323e-04, 9.03938344e-05, 1.52000412e-03, 6.33326054e-05,\n",
       "        1.19978387e-04, 1.77196867e-04, 7.89091064e-05, 1.86139892e-04,\n",
       "        5.32347767e-04, 2.36645807e-04, 1.33047972e-04, 3.50628019e-04,\n",
       "        3.20919760e-04, 1.21501289e-04, 1.00007725e-04, 2.50835059e-04,\n",
       "        2.76017090e-04, 1.80231029e-04, 9.03198728e-04, 7.91062848e-05,\n",
       "        8.49380522e-05, 3.75939038e-04, 5.36436346e-05, 1.80063173e-04,\n",
       "        6.60518563e-05, 1.79070805e-04, 1.75859823e-04, 1.86288889e-04,\n",
       "        3.24475288e-04, 2.42806607e-04, 7.78907779e-05, 1.19095916e-04,\n",
       "        5.59389475e-04, 1.62750963e-04, 2.50877056e-04, 2.53031641e-04,\n",
       "        1.37619514e-04, 2.01602554e-04, 1.90976512e-04, 1.48475578e-04,\n",
       "        1.36822418e-04, 1.81851559e-04, 8.16219836e-05, 2.66145187e-04,\n",
       "        1.07306347e-04, 1.39219424e-04, 1.59906733e-04, 2.13256251e-04,\n",
       "        2.24287069e-04, 1.50849548e-04, 1.59119634e-04, 3.30752577e-04,\n",
       "        5.75129932e-04, 8.42132649e-05, 1.97364308e-04, 3.02862725e-04,\n",
       "        1.54030015e-04, 1.66773051e-03, 1.54752372e-04, 6.59828511e-05,\n",
       "        1.26784566e-04, 1.42461126e-04, 1.67215374e-04, 7.59739778e-05,\n",
       "        2.52688857e-04, 2.27066834e-04, 2.96620710e-04, 1.63610777e-04,\n",
       "        2.55471270e-04, 8.41666188e-05, 1.15009665e-04, 7.66943442e-04,\n",
       "        1.66576341e-04, 1.09933106e-04, 2.79623811e-04, 8.67986892e-05,\n",
       "        2.06766024e-04, 2.83165573e-04, 3.43857915e-04, 1.29346940e-04,\n",
       "        1.53122979e-04, 2.55844905e-04, 1.29911161e-04, 1.04909610e-04,\n",
       "        2.63098569e-04, 2.40783513e-04, 8.28843404e-05, 3.17935453e-04,\n",
       "        5.36686508e-04, 1.29871027e-04, 8.92145326e-05, 1.79819166e-04,\n",
       "        1.96727255e-04, 1.32435016e-04, 1.30535846e-04, 1.63082062e-04,\n",
       "        2.48530938e-04, 3.29892879e-04, 4.68783808e-04, 2.00939176e-04,\n",
       "        1.35924260e-04, 7.96615204e-05, 1.93814762e-04, 1.06155050e-04,\n",
       "        1.13672693e-04, 1.13300921e-04, 4.41952056e-04, 9.94524744e-05,\n",
       "        1.56432812e-04, 1.80850169e-04, 4.27893014e-04, 1.18412201e-04,\n",
       "        2.17260662e-04, 1.26998872e-04, 9.13012846e-05, 1.49776577e-04,\n",
       "        4.60058625e-04, 2.33798390e-04, 2.09758480e-04, 5.71934397e-05,\n",
       "        1.66642116e-04, 6.69807123e-05, 9.19070371e-05, 2.02308234e-04,\n",
       "        2.09691876e-04, 3.32057098e-04, 1.47739265e-04, 1.14433089e-04,\n",
       "        7.19682503e-05, 2.15178021e-04, 1.26704428e-04, 1.01128790e-04,\n",
       "        1.20437631e-04, 2.08290745e-04, 7.68365571e-05, 2.37288317e-04,\n",
       "        3.40524217e-04, 1.47055674e-04, 6.81962967e-01, 2.19667229e-04,\n",
       "        2.74717953e-04, 1.16629657e-04, 5.74481499e-04, 4.64089564e-04,\n",
       "        3.01513413e-04, 2.34650652e-04, 7.41135373e-05, 7.57071612e-05,\n",
       "        7.94887543e-04, 7.79708935e-05, 3.93473485e-04, 1.58937648e-04,\n",
       "        3.26790556e-04, 2.03479445e-04, 1.72481916e-04, 1.05639898e-04,\n",
       "        1.86623001e-04, 9.91239940e-05, 4.95560234e-05, 1.10175977e-04,\n",
       "        1.16809657e-04, 8.66642004e-05, 1.54173307e-04, 1.68149607e-04,\n",
       "        4.68189130e-04, 2.52051424e-04, 1.13542173e-02, 7.88271544e-04,\n",
       "        4.13811940e-04, 1.18413103e-04, 1.97261936e-04, 3.86472500e-04,\n",
       "        1.36816947e-04, 7.13505287e-05, 2.25757045e-04, 1.80386836e-04,\n",
       "        1.73878303e-04, 2.51906749e-04, 2.03162053e-04, 1.27958818e-04,\n",
       "        3.82439815e-04, 1.86603793e-04, 1.72595290e-04, 4.87354904e-04,\n",
       "        1.63535122e-04, 6.86913772e-05, 1.85084704e-04, 1.39792042e-04,\n",
       "        1.74620451e-04, 1.06031017e-04, 3.14870063e-04, 4.48295061e-04,\n",
       "        1.59846197e-04, 7.04944541e-05, 1.28949861e-04, 5.53101010e-04,\n",
       "        1.37879892e-04, 1.21665253e-04, 8.67186027e-05, 2.73440324e-04,\n",
       "        1.37898824e-04, 1.37115945e-04, 1.04308034e-04, 3.90047644e-04,\n",
       "        1.57483897e-04, 9.39336023e-05, 3.56145378e-04, 2.43906208e-04,\n",
       "        3.99615470e-04, 4.97269561e-04, 1.22353260e-04, 9.36170109e-05,\n",
       "        1.25646853e-04, 1.39390278e-04, 1.03802231e-04, 9.28702284e-05,\n",
       "        9.22006948e-05, 3.43339023e-04, 5.48865428e-05, 2.63230962e-04,\n",
       "        2.66726449e-04, 1.47805084e-04, 1.70284926e-04, 1.80074348e-04,\n",
       "        7.58890310e-05, 1.43083860e-03, 2.65548006e-04, 1.44851059e-04,\n",
       "        1.13949674e-04, 1.16906718e-04, 2.17615045e-04, 2.58725224e-04,\n",
       "        1.22966463e-04, 1.48033738e-04, 1.16046627e-04, 2.08012440e-04,\n",
       "        3.05243040e-04, 5.91516073e-05, 1.82005446e-04, 1.65323378e-04,\n",
       "        2.60346162e-04, 5.02266630e-04, 2.82613706e-04, 2.95538135e-04,\n",
       "        1.81656040e-04, 2.39527508e-04, 1.90098843e-04, 1.88979771e-04,\n",
       "        1.72692424e-04, 1.95152577e-04, 4.91829705e-04, 9.94556976e-05,\n",
       "        1.70699059e-04, 5.84808178e-04, 1.13055692e-04, 1.33562338e-04,\n",
       "        1.80422780e-04, 1.25782564e-04, 1.05813524e-04, 2.59069900e-04,\n",
       "        1.59887350e-04, 8.63707101e-05, 3.83109465e-04, 4.55219648e-04,\n",
       "        2.06495461e-04, 5.64097718e-05, 1.54666195e-04, 2.92046811e-04,\n",
       "        1.81529089e-04, 6.45798209e-05, 1.59851537e-04, 1.31829421e-03,\n",
       "        9.33086194e-05, 4.61229123e-04, 9.72144626e-05, 1.24955201e-04,\n",
       "        5.07024779e-05, 6.28873531e-05, 4.13578353e-04, 2.84086011e-04,\n",
       "        1.28073210e-04, 2.61504640e-04, 9.42730985e-05, 1.95995250e-04,\n",
       "        3.96313961e-04, 1.43096477e-04, 5.28964956e-05, 2.33040526e-04,\n",
       "        3.11526994e-04, 2.09669874e-04, 1.75942856e-04, 8.92817770e-05,\n",
       "        2.50953977e-04, 2.37694650e-04, 1.01222482e-04, 1.74577159e-04,\n",
       "        4.77033755e-04, 1.17653632e-04, 9.23221160e-05, 2.17152730e-04,\n",
       "        1.70014100e-04, 1.16168543e-04, 2.60996985e-05, 3.49125854e-04,\n",
       "        1.84101358e-04, 1.28640328e-04, 5.86736060e-05, 1.16467272e-04,\n",
       "        8.96834608e-05, 2.23598719e-04, 1.90076738e-04, 2.73736980e-04,\n",
       "        7.46871956e-05, 2.36693784e-04, 1.81629002e-04, 2.13742256e-04,\n",
       "        9.44710118e-05, 1.46677092e-04, 1.29338674e-04, 1.73262539e-04,\n",
       "        1.46519655e-04, 3.69902322e-04, 1.02825834e-04, 1.05041050e-04,\n",
       "        6.42296916e-04, 9.07542184e-04, 1.84744364e-04, 1.30613669e-04,\n",
       "        1.25979321e-04, 3.52626492e-04, 2.54771148e-04, 1.03580140e-04,\n",
       "        1.15602583e-04, 3.78446653e-04, 4.29490901e-05, 1.20877994e-04,\n",
       "        5.04353840e-04, 2.10294878e-04, 1.81054507e-04, 1.30061526e-04,\n",
       "        1.39838448e-04, 1.52791123e-04, 2.43441798e-04, 2.21526527e-04,\n",
       "        1.07858126e-04, 1.80905889e-04, 1.15510564e-04, 1.87949350e-04,\n",
       "        4.90975857e-04, 1.34223010e-04, 2.45192175e-04, 1.69472129e-04,\n",
       "        2.86096329e-04, 3.50673829e-04, 2.20740971e-04, 2.66657764e-04,\n",
       "        2.49231729e-04, 1.67860722e-04, 3.41017847e-04, 1.88807375e-04,\n",
       "        1.37438255e-04, 1.62372235e-04, 3.25453380e-04, 1.54669600e-04,\n",
       "        3.88197746e-04, 4.49142797e-04, 1.47547777e-04, 1.59798947e-04,\n",
       "        5.97859507e-05, 3.43247354e-02, 2.76212493e-04, 2.23908151e-04,\n",
       "        1.00511330e-04, 1.27709500e-04, 6.02376822e-05, 1.51668472e-04,\n",
       "        1.32125948e-04, 1.41306256e-04, 1.24385100e-04, 1.20502089e-04,\n",
       "        2.22188974e-04, 5.24393690e-04, 1.78002389e-04, 4.60567790e-05,\n",
       "        2.43914372e-04, 2.52960599e-04, 3.82181461e-04, 1.38374133e-04,\n",
       "        1.68068160e-04, 7.22232580e-05, 9.15467797e-04, 1.06344945e-04,\n",
       "        1.30819855e-04, 2.47408840e-04, 1.93226209e-04, 1.06958978e-04,\n",
       "        7.53766290e-05, 1.40019064e-03, 6.67076820e-05, 2.25716794e-04,\n",
       "        1.58010749e-04, 5.96533355e-04, 1.26430066e-04, 2.37313216e-04,\n",
       "        1.16604962e-04, 2.67389900e-04, 1.60604555e-04, 1.40430478e-04,\n",
       "        1.56555034e-04, 2.58270127e-04, 6.00449093e-05, 1.45690748e-04,\n",
       "        5.17401088e-04, 1.84536073e-03, 1.91806263e-04, 2.84689071e-04,\n",
       "        2.41652146e-04, 1.15636110e-04, 1.79274648e-04, 6.80651647e-05,\n",
       "        2.23134979e-04, 5.66861563e-05, 4.86452162e-04, 1.62085707e-04,\n",
       "        4.76966597e-05, 4.05221974e-04, 2.17633526e-04, 5.03993942e-04,\n",
       "        2.52484926e-04, 4.39786352e-04, 2.42033973e-04, 2.25517317e-04,\n",
       "        1.79509894e-04, 2.86866503e-04, 2.24096977e-04, 1.12040958e-04,\n",
       "        1.53630244e-04, 1.58775540e-04, 1.49274478e-04, 1.31020625e-03,\n",
       "        2.07792546e-04, 1.99241636e-04, 1.58051742e-04, 2.34877021e-04,\n",
       "        3.20092484e-04, 1.83718133e-04, 1.43647354e-04, 2.49036180e-04,\n",
       "        2.78114283e-04, 1.17085117e-04, 2.17342313e-04, 9.07486683e-05,\n",
       "        1.88624894e-04, 7.85311131e-05, 1.38421514e-04, 1.30083979e-04,\n",
       "        1.05708823e-04, 2.99242063e-04, 8.74546822e-05, 2.05860342e-04,\n",
       "        2.34418592e-04, 1.89905331e-04, 2.29594487e-04, 1.18799500e-04,\n",
       "        3.06401518e-04, 3.52123578e-04, 4.12373192e-04, 6.34415366e-04,\n",
       "        2.61568232e-04, 1.62633354e-04, 1.05776497e-04, 2.13217820e-04,\n",
       "        1.09919900e-04, 4.02143691e-04, 2.26390053e-04, 1.65131307e-04,\n",
       "        3.82797589e-04, 1.66615268e-04, 1.23482358e-04, 1.36148694e-04,\n",
       "        2.30778358e-04, 1.06117499e-04, 2.34298263e-04, 2.40381531e-04,\n",
       "        1.03058010e-04, 2.24650983e-04, 7.93485960e-05, 1.47430881e-04,\n",
       "        1.08399086e-04, 1.96232941e-04, 1.24707105e-04, 3.37388512e-04,\n",
       "        1.08069195e-04, 1.39567186e-04, 1.14523922e-04, 1.78319766e-04,\n",
       "        2.91606237e-04, 1.06025545e-04, 2.24138246e-04, 1.94729815e-04,\n",
       "        2.08869184e-04, 1.51430140e-04, 1.80802919e-04, 2.59200024e-04,\n",
       "        3.82333295e-04, 1.80400762e-04, 2.94019206e-04, 2.12825311e-04,\n",
       "        2.95189850e-04, 2.51976191e-04, 2.64226219e-05, 1.89748200e-04,\n",
       "        2.07101708e-04, 2.05870354e-04, 4.28847736e-04, 1.33218375e-04,\n",
       "        1.12896021e-04, 1.57900329e-04, 1.94431050e-04, 2.63790746e-04,\n",
       "        3.20827647e-04, 2.70084478e-04, 3.43746768e-04, 2.48680328e-04,\n",
       "        2.78318999e-04, 3.25885689e-04, 1.71753942e-04, 1.73037290e-04]],\n",
       "      dtype=float32)"
      ]
     },
     "execution_count": 48,
     "metadata": {},
     "output_type": "execute_result"
    }
   ],
   "source": [
    "# Predictions are then relayed as floats btn 0 and 1\n",
    "pred = model.predict(X)\n",
    "pred"
   ]
  },
  {
   "cell_type": "markdown",
   "id": "0b3d5993-8256-46ac-ab3e-f761b92d290a",
   "metadata": {},
   "source": [
    "Add decoding of predictions to find out which class the prediction belongs to"
   ]
  },
  {
   "cell_type": "code",
   "execution_count": 50,
   "id": "f22da519-562d-4a49-aba2-a21fbe52d283",
   "metadata": {
    "execution": {
     "iopub.execute_input": "2024-11-26T03:08:10.650192Z",
     "iopub.status.busy": "2024-11-26T03:08:10.649840Z",
     "iopub.status.idle": "2024-11-26T03:08:10.774255Z",
     "shell.execute_reply": "2024-11-26T03:08:10.773691Z",
     "shell.execute_reply.started": "2024-11-26T03:08:10.650170Z"
    }
   },
   "outputs": [
    {
     "name": "stdout",
     "output_type": "stream",
     "text": [
      "Downloading data from https://storage.googleapis.com/download.tensorflow.org/data/imagenet_class_index.json\n",
      "\u001b[1m35363/35363\u001b[0m \u001b[32m━━━━━━━━━━━━━━━━━━━━\u001b[0m\u001b[37m\u001b[0m \u001b[1m0s\u001b[0m 0us/step\n"
     ]
    },
    {
     "data": {
      "text/plain": [
       "[[('n03595614', 'jersey', 0.68196297),\n",
       "  ('n02916936', 'bulletproof_vest', 0.03814005),\n",
       "  ('n04370456', 'sweatshirt', 0.034324735),\n",
       "  ('n03710637', 'maillot', 0.011354217),\n",
       "  ('n04525038', 'velvet', 0.0018453607)]]"
      ]
     },
     "execution_count": 50,
     "metadata": {},
     "output_type": "execute_result"
    }
   ],
   "source": [
    "decode_predictions(pred)"
   ]
  },
  {
   "cell_type": "code",
   "execution_count": null,
   "id": "cd149772-ffa4-4ad1-901b-a3610534487d",
   "metadata": {},
   "outputs": [],
   "source": []
  },
  {
   "cell_type": "code",
   "execution_count": null,
   "id": "cd0eb317-c125-4ca6-8607-0a117bcb9bde",
   "metadata": {},
   "outputs": [],
   "source": []
  },
  {
   "cell_type": "code",
   "execution_count": null,
   "id": "949b8403-faac-4499-ab54-3e26987e7861",
   "metadata": {},
   "outputs": [],
   "source": []
  },
  {
   "cell_type": "code",
   "execution_count": null,
   "id": "66059ea5-4d43-4003-ae95-2f78188e4802",
   "metadata": {},
   "outputs": [],
   "source": []
  },
  {
   "cell_type": "code",
   "execution_count": null,
   "id": "4d09c9ff-74e9-4c9d-9047-9d5d6d81ad86",
   "metadata": {},
   "outputs": [],
   "source": []
  },
  {
   "cell_type": "markdown",
   "id": "e3928249",
   "metadata": {},
   "source": [
    "## 8.3 Pre-trained convolutional neural networks\n",
    "\n",
    "* Imagenet dataset: https://www.image-net.org/\n",
    "* Pre-trained models: https://keras.io/api/applications/\n"
   ]
  },
  {
   "cell_type": "markdown",
   "id": "e2c2d908",
   "metadata": {},
   "source": [
    "## 8.4 Convolutional neural networks\n",
    "\n",
    "* Types of layers: convolutional and dense \n",
    "* Convolutional layers and filters\n",
    "* Dense layers\n",
    "\n",
    "There are more layers. Read here: https://cs231n.github.io/"
   ]
  },
  {
   "cell_type": "markdown",
   "id": "1cf118bf",
   "metadata": {},
   "source": [
    "## 8.5 Transfer learning\n",
    "\n",
    "* Reading data with `ImageDataGenerator`\n",
    "* Train `Xception` on smaller images (150x150)\n",
    "\n",
    "(Better to run it with a GPU)"
   ]
  },
  {
   "cell_type": "markdown",
   "id": "6def1b4b",
   "metadata": {},
   "source": [
    "## 8.6 Adjusting the learning rate\n",
    "\n",
    "* What's the learning rate\n",
    "* Trying different values"
   ]
  },
  {
   "cell_type": "markdown",
   "id": "8f906434",
   "metadata": {},
   "source": [
    "## 8.7 Checkpointing\n",
    "\n",
    "* Saving the best model only\n",
    "* Training a model with callbacks"
   ]
  },
  {
   "cell_type": "markdown",
   "id": "c33d7b9b",
   "metadata": {},
   "source": [
    "## 8.8 Adding more layers\n",
    "\n",
    "\n",
    "* Adding one inner dense layer\n",
    "* Experimenting with different sizes of inner layer"
   ]
  },
  {
   "cell_type": "markdown",
   "id": "76c1849b",
   "metadata": {},
   "source": [
    "## 8.9 Regularization and dropout\n",
    "\n",
    "* Regularizing by freezing a part of the network\n",
    "* Adding dropout to our model\n",
    "* Experimenting with different values"
   ]
  },
  {
   "cell_type": "markdown",
   "id": "e042866c",
   "metadata": {},
   "source": [
    "## 8.10 Data augmentation\n",
    "\n",
    "* Different data augmentations\n",
    "* Training a model with augmentations\n",
    "* How to select data augmentations?"
   ]
  },
  {
   "cell_type": "markdown",
   "id": "5beaea4b",
   "metadata": {},
   "source": [
    "## 8.11 Training a larger model\n",
    "\n",
    "* Train a 299x299 model"
   ]
  },
  {
   "cell_type": "markdown",
   "id": "a7ce7ef6",
   "metadata": {},
   "source": [
    "## 8.12 Using the model\n",
    "\n",
    "* Loading the model\n",
    "* Evaluating the model\n",
    "* Getting predictions"
   ]
  },
  {
   "cell_type": "markdown",
   "id": "8263dbd8",
   "metadata": {},
   "source": [
    "## 8.13 Summary\n",
    "\n",
    "* We can use pre-trained models for general image classification\n",
    "* Convolutional layers let us turn an image into a vector\n",
    "* Dense layers use the vector to make the predictions\n",
    "* Instead of training a model from scratch, we can use transfer learning and re-use already trained convolutional layers\n",
    "* First, train a small model (150x150) before training a big one (299x299)\n",
    "* Learning rate - how fast the model trians. Fast learners aren't always best ones\n",
    "* We can save the best model using callbacks and checkpointing\n",
    "* To avoid overfitting, use dropout and augmentation"
   ]
  },
  {
   "cell_type": "markdown",
   "id": "b5378439",
   "metadata": {},
   "source": [
    "## 8.14 Explore more\n",
    "\n",
    "* Add more data, e.g. Zalando, etc (ADD LINKS)\n",
    "* Albumentations - another way of generating augmentations\n",
    "* Use PyTorch or MXNet instead of TensorFlow/Keras\n",
    "* In addition to Xception, there are others architectures - try them \n",
    "\n",
    "Other projects:\n",
    "\n",
    "* cats vs dogs\n",
    "* Hotdog vs not hotdog\n",
    "* Category of images\n",
    "\n"
   ]
  }
 ],
 "metadata": {
  "kernelspec": {
   "display_name": "saturn (Python 3)",
   "language": "python",
   "name": "python3"
  },
  "language_info": {
   "codemirror_mode": {
    "name": "ipython",
    "version": 3
   },
   "file_extension": ".py",
   "mimetype": "text/x-python",
   "name": "python",
   "nbconvert_exporter": "python",
   "pygments_lexer": "ipython3",
   "version": "3.11.10"
  }
 },
 "nbformat": 4,
 "nbformat_minor": 5
}
